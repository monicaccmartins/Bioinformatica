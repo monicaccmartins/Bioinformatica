{
 "cells": [
  {
   "cell_type": "code",
   "execution_count": 1,
   "metadata": {},
   "outputs": [],
   "source": [
    "import pandas as pd\n",
    "from sklearn import preprocessing\n",
    "from sklearn.decomposition import PCA\n",
    "import matplotlib.pyplot as plt\n",
    "import numpy as np\n",
    "from sklearn.neighbors import KNeighborsClassifier\n",
    "from sklearn.cluster import KMeans\n",
    "from sklearn.model_selection import cross_val_score\n",
    "from sklearn import tree\n",
    "from sklearn import linear_model\n",
    "from sklearn import svm\n"
   ]
  },
  {
   "cell_type": "markdown",
   "metadata": {},
   "source": [
    "**SECÇAO 1**"
   ]
  },
  {
   "cell_type": "code",
   "execution_count": 2,
   "metadata": {},
   "outputs": [],
   "source": [
    "# carregamento de dados e metadados\n",
    "datai = pd.read_csv('gds5473.csv',sep=',', index_col = 0)\n",
    "meta = pd.read_csv('meta-gds5473.csv',sep=',', index_col = 0)"
   ]
  },
  {
   "cell_type": "code",
   "execution_count": 3,
   "metadata": {},
   "outputs": [
    {
     "name": "stdout",
     "output_type": "stream",
     "text": [
      "(48107, 48)\n",
      "(48, 4)\n"
     ]
    }
   ],
   "source": [
    "# verificaçao colunas e linhas de dados e metadados\n",
    "print(datai.values.shape)\n",
    "print(meta.values.shape)"
   ]
  },
  {
   "cell_type": "markdown",
   "metadata": {},
   "source": [
    "_Análise de dados e metadados_\n",
    "\n",
    "Verifica-se que os dados são compostos por 48107 linhas e 48 colunas.\n",
    "Por outro lado, os metadados são compostos por 48 linhas e 4 colunas.\n",
    "\n",
    "Assim, terá de se proceder à criação da matriz de dados transposta."
   ]
  },
  {
   "cell_type": "code",
   "execution_count": 21,
   "metadata": {},
   "outputs": [],
   "source": [
    "data=datai.transpose()"
   ]
  },
  {
   "cell_type": "markdown",
   "metadata": {
    "collapsed": true
   },
   "source": [
    "_Descrição e caracterização do dataset_\n",
    "\n",
    "O objetivo deste estudo era investigar os efeitos de um jejum curto na homeostase e na energia do músculo esquelético. Neste estudo foram colecionadas biopsias do músculo esquelético e análisadas em quatro situações diferentes: 1.5, 4, 10 e 24 horas após a refeição.\n",
    "\n",
    "Assim, pretende-se relacionar o valor total de RNA obtido com o jejum.\n",
    "\n",
    "Em indivíduos saudaveis, o jejum a curto prazo é caracterizado pelo decaimento da oxidacao de glucose associada, simultaneamente, a um aumento de oxidacao de lipidos por tecidos perifericos, principalmente no musculo escletico. \n",
    "Descida de niveis de de insulina e leptina do plasma, aumento em cetonas, acidos gordos livres e aumento do nivel de hormonas\n",
    "\n",
    "Como se pode verificar, existem até 48107 genes que serão analisados e que, consequentemente, possam ter uma influencia para o estudo. No entanto (e como se verificará mais à frente), pode não se verificar o resgisto de determinados genes (valores nulos).\n",
    "\n",
    "Quanto aos metadados, verifica-se que possuem 4 variaveis: a amostra, o indivíduo, a hora de recolha e a descrição"
   ]
  },
  {
   "cell_type": "code",
   "execution_count": 5,
   "metadata": {},
   "outputs": [
    {
     "name": "stdout",
     "output_type": "stream",
     "text": [
      "Valores em falta para cada atributo dos dados:\n",
      "ILMN_1343048    48\n",
      "ILMN_1343049    48\n",
      "ILMN_1343050    48\n",
      "ILMN_1343052    48\n",
      "ILMN_1343059    48\n",
      "                ..\n",
      "ILMN_3311170     0\n",
      "ILMN_3311175     0\n",
      "ILMN_3311180     0\n",
      "ILMN_3311185     0\n",
      "ILMN_3311190     0\n",
      "Length: 48107, dtype: int64\n",
      "\n",
      "Total de valores em falta nos dados:\n",
      "37632\n"
     ]
    }
   ],
   "source": [
    "# valores em falta nos dados \n",
    "print(\"Valores em falta para cada atributo dos dados:\")\n",
    "print(data.isnull().sum())\n",
    "print(\"\")\n",
    "print(\"Total de valores em falta nos dados:\")\n",
    "print(data.isnull().sum().sum())"
   ]
  },
  {
   "cell_type": "code",
   "execution_count": 6,
   "metadata": {},
   "outputs": [
    {
     "name": "stdout",
     "output_type": "stream",
     "text": [
      "Valores em falta para cada atributo dos metadados:\n",
      "sample         0\n",
      "individual     0\n",
      "time           0\n",
      "description    0\n",
      "dtype: int64\n",
      "\n",
      "Total de valores em falta nos metadados:\n",
      "0\n"
     ]
    }
   ],
   "source": [
    "# valores em falta nos metadados \n",
    "print(\"Valores em falta para cada atributo dos metadados:\")\n",
    "print(meta.isnull().sum())\n",
    "print(\"\")\n",
    "print(\"Total de valores em falta nos metadados:\")\n",
    "print(meta.isnull().sum().sum())"
   ]
  },
  {
   "cell_type": "code",
   "execution_count": 7,
   "metadata": {},
   "outputs": [
    {
     "name": "stdout",
     "output_type": "stream",
     "text": [
      "Tipos de atributos (dados):\n",
      "ILMN_1343048    float64\n",
      "ILMN_1343049    float64\n",
      "ILMN_1343050    float64\n",
      "ILMN_1343052    float64\n",
      "ILMN_1343059    float64\n",
      "                 ...   \n",
      "ILMN_3311170    float64\n",
      "ILMN_3311175    float64\n",
      "ILMN_3311180    float64\n",
      "ILMN_3311185    float64\n",
      "ILMN_3311190    float64\n",
      "Length: 48107, dtype: object\n"
     ]
    }
   ],
   "source": [
    "# verificaçao do tipo de atributos nos dados\n",
    "print(\"Tipos de atributos (dados):\")\n",
    "print(data.dtypes)"
   ]
  },
  {
   "cell_type": "code",
   "execution_count": 8,
   "metadata": {},
   "outputs": [
    {
     "name": "stdout",
     "output_type": "stream",
     "text": [
      "Tipos de atributos (metadados):\n",
      "sample         object\n",
      "individual     object\n",
      "time           object\n",
      "description    object\n",
      "dtype: object\n"
     ]
    }
   ],
   "source": [
    "# verificaçao do tipo de atributos nos metadados\n",
    "print(\"Tipos de atributos (metadados):\")\n",
    "print(meta.dtypes)"
   ]
  },
  {
   "cell_type": "markdown",
   "metadata": {},
   "source": [
    "_Características dos dados e metadados_\n",
    "\n",
    "Dados:\n",
    "Os atributos dos dados são os diferentes tipos de gene (como por exemplo: ILMN_1343048, ILMN_1343049). Há 48107 atributos e são do tipo *float64*.\n",
    "\n",
    "Metadados: \n",
    "Os atributos dos metadados são a amostra, o índividuo, o tempo após a refeição e a descrição. Estes atributos são do tipo *object*."
   ]
  },
  {
   "cell_type": "code",
   "execution_count": 9,
   "metadata": {},
   "outputs": [
    {
     "name": "stdout",
     "output_type": "stream",
     "text": [
      "(48, 47323)\n"
     ]
    }
   ],
   "source": [
    "#pre-processamento dos dados\n",
    "data.dropna(axis=\"columns\", inplace=True)             #removem-se os valores nulos, dropna() remove as linhas que contêm valores nulos\n",
    "data_scale = preprocessing.scale(data)\n",
    "print(data_scale.shape)\n"
   ]
  },
  {
   "cell_type": "markdown",
   "metadata": {},
   "source": [
    "_Passos do pré-processamento_\n",
    "\n",
    "Primeiro, eliminaram-se os valores nulos com a função dropna(). Seguidamente, procedeu-se à normalização dos dados com o algoritmo preprocessing.scale().\n",
    "\n",
    "Note-se que, após o pré-processamento dos dados, restam 47323 genes para análise."
   ]
  },
  {
   "cell_type": "markdown",
   "metadata": {},
   "source": [
    "_Escolha de variáveis de meta-dados_\n",
    "\n",
    "Uma vez que os meta-dados possuem quatro variáveis (\"sample\", \"individual\", \"time\", \"description\"), apenas serão utilizadas duas: \"individual\" e \"time\". \n",
    "\n",
    "As variáveis \"sample\" e \"description\" não foram consideradas uma vez que não possuem informação relevante para a análise dos dados (como cluster, aprendizagem máquina, etc)."
   ]
  },
  {
   "cell_type": "code",
   "execution_count": 10,
   "metadata": {},
   "outputs": [
    {
     "name": "stdout",
     "output_type": "stream",
     "text": [
      "[6.00652010e-02 5.69230496e-02 3.82744447e-02 3.37939965e-02\n",
      " 2.96700818e-02 2.91411319e-02 2.55861292e-02 2.49198978e-02\n",
      " 2.34602566e-02 2.33634716e-02 2.28557326e-02 2.24160873e-02\n",
      " 2.13367322e-02 2.12811765e-02 2.03312678e-02 2.02027770e-02\n",
      " 2.00700632e-02 1.96958449e-02 1.92742287e-02 1.87673361e-02\n",
      " 1.85293743e-02 1.83705203e-02 1.81618565e-02 1.80245655e-02\n",
      " 1.78917138e-02 1.77861353e-02 1.76320580e-02 1.74164056e-02\n",
      " 1.72243474e-02 1.71625092e-02 1.70850126e-02 1.68293419e-02\n",
      " 1.67969827e-02 1.66771443e-02 1.64783409e-02 1.62990324e-02\n",
      " 1.61840362e-02 1.60169198e-02 1.58985659e-02 1.58762825e-02\n",
      " 1.57440996e-02 1.55792569e-02 1.54429585e-02 1.52827806e-02\n",
      " 1.49580782e-02 1.48114916e-02 1.44112826e-02 2.54689007e-32]\n",
      "0.9095141516999556\n"
     ]
    },
    {
     "data": {
      "image/png": "[encoded data removed]",
      "text/plain": [
       "<Figure size 2000x600 with 1 Axes>"
      ]
     },
     "metadata": {},
     "output_type": "display_data"
    }
   ],
   "source": [
    "n=48                                                                # existem 48 amostras para proceder à análise\n",
    "pca = PCA(n_components=n) \n",
    "x_reduced = pca.fit(data_scale).transform(data_scale)                                                       # media e desvio                                         # escala\n",
    "print (pca.explained_variance_ratio_) \n",
    "print(sum(pca.explained_variance_ratio_[:41]))                          # 90% da variabilidade\n",
    "\n",
    "per_var=np.round(pca.explained_variance_ratio_*100, decimals=1)\n",
    "labels=[\"PC\"+str(x) for x in range(1,len(per_var)+1)]                  \n",
    "plt.figure(figsize=(20, 6))  # width:20, height:3\n",
    "\n",
    "plt.bar([x*2 for x in range(1,len(per_var)+1)], height=per_var, align=\"center\", width=1)\n",
    "plt.ylabel(\"Percentagem da variação explicada\")\n",
    "plt.xticks([x*2 for x in range(1,len(per_var)+1)], labels, rotation=45)\n",
    "\n",
    "    \n",
    "plt.show()\n"
   ]
  },
  {
   "cell_type": "code",
   "execution_count": 11,
   "metadata": {},
   "outputs": [
    {
     "data": {
      "text/html": [
       "<div>\n",
       "<style scoped>\n",
       "    .dataframe tbody tr th:only-of-type {\n",
       "        vertical-align: middle;\n",
       "    }\n",
       "\n",
       "    .dataframe tbody tr th {\n",
       "        vertical-align: top;\n",
       "    }\n",
       "\n",
       "    .dataframe thead th {\n",
       "        text-align: right;\n",
       "    }\n",
       "</style>\n",
       "<table border=\"1\" class=\"dataframe\">\n",
       "  <thead>\n",
       "    <tr style=\"text-align: right;\">\n",
       "      <th></th>\n",
       "      <th>ILMN_1343291</th>\n",
       "      <th>ILMN_1343295</th>\n",
       "      <th>ILMN_1651199</th>\n",
       "      <th>ILMN_1651209</th>\n",
       "      <th>ILMN_1651210</th>\n",
       "      <th>ILMN_1651221</th>\n",
       "      <th>ILMN_1651228</th>\n",
       "      <th>ILMN_1651229</th>\n",
       "      <th>ILMN_1651230</th>\n",
       "      <th>ILMN_1651232</th>\n",
       "      <th>...</th>\n",
       "      <th>ILMN_3311145</th>\n",
       "      <th>ILMN_3311150</th>\n",
       "      <th>ILMN_3311155</th>\n",
       "      <th>ILMN_3311160</th>\n",
       "      <th>ILMN_3311165</th>\n",
       "      <th>ILMN_3311170</th>\n",
       "      <th>ILMN_3311175</th>\n",
       "      <th>ILMN_3311180</th>\n",
       "      <th>ILMN_3311185</th>\n",
       "      <th>ILMN_3311190</th>\n",
       "    </tr>\n",
       "  </thead>\n",
       "  <tbody>\n",
       "    <tr>\n",
       "      <th>count</th>\n",
       "      <td>48.000000</td>\n",
       "      <td>48.000000</td>\n",
       "      <td>48.000000</td>\n",
       "      <td>48.000000</td>\n",
       "      <td>48.000000</td>\n",
       "      <td>48.000000</td>\n",
       "      <td>48.000000</td>\n",
       "      <td>48.000000</td>\n",
       "      <td>48.000000</td>\n",
       "      <td>48.000000</td>\n",
       "      <td>...</td>\n",
       "      <td>48.000000</td>\n",
       "      <td>48.000000</td>\n",
       "      <td>48.000000</td>\n",
       "      <td>48.000000</td>\n",
       "      <td>48.000000</td>\n",
       "      <td>48.000000</td>\n",
       "      <td>48.000000</td>\n",
       "      <td>48.000000</td>\n",
       "      <td>48.000000</td>\n",
       "      <td>48.000000</td>\n",
       "    </tr>\n",
       "    <tr>\n",
       "      <th>mean</th>\n",
       "      <td>13.047917</td>\n",
       "      <td>14.441667</td>\n",
       "      <td>7.206250</td>\n",
       "      <td>7.314583</td>\n",
       "      <td>7.302083</td>\n",
       "      <td>7.397917</td>\n",
       "      <td>11.406250</td>\n",
       "      <td>9.845833</td>\n",
       "      <td>7.277083</td>\n",
       "      <td>7.354167</td>\n",
       "      <td>...</td>\n",
       "      <td>7.247917</td>\n",
       "      <td>7.322917</td>\n",
       "      <td>7.293750</td>\n",
       "      <td>7.237500</td>\n",
       "      <td>7.460417</td>\n",
       "      <td>7.241667</td>\n",
       "      <td>7.225000</td>\n",
       "      <td>7.360417</td>\n",
       "      <td>7.220833</td>\n",
       "      <td>7.287500</td>\n",
       "    </tr>\n",
       "    <tr>\n",
       "      <th>std</th>\n",
       "      <td>0.245807</td>\n",
       "      <td>0.189998</td>\n",
       "      <td>0.107992</td>\n",
       "      <td>0.092229</td>\n",
       "      <td>0.099978</td>\n",
       "      <td>0.108156</td>\n",
       "      <td>0.362266</td>\n",
       "      <td>0.224042</td>\n",
       "      <td>0.118931</td>\n",
       "      <td>0.109074</td>\n",
       "      <td>...</td>\n",
       "      <td>0.107168</td>\n",
       "      <td>0.127562</td>\n",
       "      <td>0.113749</td>\n",
       "      <td>0.108422</td>\n",
       "      <td>0.128394</td>\n",
       "      <td>0.104847</td>\n",
       "      <td>0.106191</td>\n",
       "      <td>0.116216</td>\n",
       "      <td>0.100970</td>\n",
       "      <td>0.098121</td>\n",
       "    </tr>\n",
       "    <tr>\n",
       "      <th>min</th>\n",
       "      <td>12.300000</td>\n",
       "      <td>14.000000</td>\n",
       "      <td>7.000000</td>\n",
       "      <td>7.100000</td>\n",
       "      <td>7.100000</td>\n",
       "      <td>7.200000</td>\n",
       "      <td>10.700000</td>\n",
       "      <td>9.500000</td>\n",
       "      <td>7.000000</td>\n",
       "      <td>7.100000</td>\n",
       "      <td>...</td>\n",
       "      <td>7.000000</td>\n",
       "      <td>7.000000</td>\n",
       "      <td>7.100000</td>\n",
       "      <td>6.900000</td>\n",
       "      <td>7.200000</td>\n",
       "      <td>7.000000</td>\n",
       "      <td>7.000000</td>\n",
       "      <td>7.200000</td>\n",
       "      <td>7.000000</td>\n",
       "      <td>7.100000</td>\n",
       "    </tr>\n",
       "    <tr>\n",
       "      <th>25%</th>\n",
       "      <td>12.900000</td>\n",
       "      <td>14.300000</td>\n",
       "      <td>7.200000</td>\n",
       "      <td>7.300000</td>\n",
       "      <td>7.200000</td>\n",
       "      <td>7.300000</td>\n",
       "      <td>11.100000</td>\n",
       "      <td>9.600000</td>\n",
       "      <td>7.200000</td>\n",
       "      <td>7.300000</td>\n",
       "      <td>...</td>\n",
       "      <td>7.200000</td>\n",
       "      <td>7.200000</td>\n",
       "      <td>7.200000</td>\n",
       "      <td>7.200000</td>\n",
       "      <td>7.400000</td>\n",
       "      <td>7.200000</td>\n",
       "      <td>7.200000</td>\n",
       "      <td>7.300000</td>\n",
       "      <td>7.200000</td>\n",
       "      <td>7.200000</td>\n",
       "    </tr>\n",
       "    <tr>\n",
       "      <th>50%</th>\n",
       "      <td>13.100000</td>\n",
       "      <td>14.400000</td>\n",
       "      <td>7.200000</td>\n",
       "      <td>7.300000</td>\n",
       "      <td>7.300000</td>\n",
       "      <td>7.400000</td>\n",
       "      <td>11.400000</td>\n",
       "      <td>9.900000</td>\n",
       "      <td>7.300000</td>\n",
       "      <td>7.400000</td>\n",
       "      <td>...</td>\n",
       "      <td>7.250000</td>\n",
       "      <td>7.300000</td>\n",
       "      <td>7.300000</td>\n",
       "      <td>7.200000</td>\n",
       "      <td>7.500000</td>\n",
       "      <td>7.200000</td>\n",
       "      <td>7.200000</td>\n",
       "      <td>7.300000</td>\n",
       "      <td>7.200000</td>\n",
       "      <td>7.300000</td>\n",
       "    </tr>\n",
       "    <tr>\n",
       "      <th>75%</th>\n",
       "      <td>13.200000</td>\n",
       "      <td>14.600000</td>\n",
       "      <td>7.200000</td>\n",
       "      <td>7.400000</td>\n",
       "      <td>7.300000</td>\n",
       "      <td>7.500000</td>\n",
       "      <td>11.625000</td>\n",
       "      <td>10.000000</td>\n",
       "      <td>7.325000</td>\n",
       "      <td>7.400000</td>\n",
       "      <td>...</td>\n",
       "      <td>7.300000</td>\n",
       "      <td>7.400000</td>\n",
       "      <td>7.400000</td>\n",
       "      <td>7.300000</td>\n",
       "      <td>7.500000</td>\n",
       "      <td>7.300000</td>\n",
       "      <td>7.300000</td>\n",
       "      <td>7.500000</td>\n",
       "      <td>7.300000</td>\n",
       "      <td>7.400000</td>\n",
       "    </tr>\n",
       "    <tr>\n",
       "      <th>max</th>\n",
       "      <td>13.500000</td>\n",
       "      <td>15.000000</td>\n",
       "      <td>7.600000</td>\n",
       "      <td>7.600000</td>\n",
       "      <td>7.600000</td>\n",
       "      <td>7.700000</td>\n",
       "      <td>12.100000</td>\n",
       "      <td>10.500000</td>\n",
       "      <td>7.500000</td>\n",
       "      <td>7.600000</td>\n",
       "      <td>...</td>\n",
       "      <td>7.500000</td>\n",
       "      <td>7.600000</td>\n",
       "      <td>7.500000</td>\n",
       "      <td>7.500000</td>\n",
       "      <td>7.800000</td>\n",
       "      <td>7.500000</td>\n",
       "      <td>7.500000</td>\n",
       "      <td>7.600000</td>\n",
       "      <td>7.500000</td>\n",
       "      <td>7.500000</td>\n",
       "    </tr>\n",
       "  </tbody>\n",
       "</table>\n",
       "<p>8 rows × 47323 columns</p>\n",
       "</div>"
      ],
      "text/plain": [
       "       ILMN_1343291  ILMN_1343295  ILMN_1651199  ILMN_1651209  ILMN_1651210  \\\n",
       "count     48.000000     48.000000     48.000000     48.000000     48.000000   \n",
       "mean      13.047917     14.441667      7.206250      7.314583      7.302083   \n",
       "std        0.245807      0.189998      0.107992      0.092229      0.099978   \n",
       "min       12.300000     14.000000      7.000000      7.100000      7.100000   \n",
       "25%       12.900000     14.300000      7.200000      7.300000      7.200000   \n",
       "50%       13.100000     14.400000      7.200000      7.300000      7.300000   \n",
       "75%       13.200000     14.600000      7.200000      7.400000      7.300000   \n",
       "max       13.500000     15.000000      7.600000      7.600000      7.600000   \n",
       "\n",
       "       ILMN_1651221  ILMN_1651228  ILMN_1651229  ILMN_1651230  ILMN_1651232  \\\n",
       "count     48.000000     48.000000     48.000000     48.000000     48.000000   \n",
       "mean       7.397917     11.406250      9.845833      7.277083      7.354167   \n",
       "std        0.108156      0.362266      0.224042      0.118931      0.109074   \n",
       "min        7.200000     10.700000      9.500000      7.000000      7.100000   \n",
       "25%        7.300000     11.100000      9.600000      7.200000      7.300000   \n",
       "50%        7.400000     11.400000      9.900000      7.300000      7.400000   \n",
       "75%        7.500000     11.625000     10.000000      7.325000      7.400000   \n",
       "max        7.700000     12.100000     10.500000      7.500000      7.600000   \n",
       "\n",
       "       ...  ILMN_3311145  ILMN_3311150  ILMN_3311155  ILMN_3311160  \\\n",
       "count  ...     48.000000     48.000000     48.000000     48.000000   \n",
       "mean   ...      7.247917      7.322917      7.293750      7.237500   \n",
       "std    ...      0.107168      0.127562      0.113749      0.108422   \n",
       "min    ...      7.000000      7.000000      7.100000      6.900000   \n",
       "25%    ...      7.200000      7.200000      7.200000      7.200000   \n",
       "50%    ...      7.250000      7.300000      7.300000      7.200000   \n",
       "75%    ...      7.300000      7.400000      7.400000      7.300000   \n",
       "max    ...      7.500000      7.600000      7.500000      7.500000   \n",
       "\n",
       "       ILMN_3311165  ILMN_3311170  ILMN_3311175  ILMN_3311180  ILMN_3311185  \\\n",
       "count     48.000000     48.000000     48.000000     48.000000     48.000000   \n",
       "mean       7.460417      7.241667      7.225000      7.360417      7.220833   \n",
       "std        0.128394      0.104847      0.106191      0.116216      0.100970   \n",
       "min        7.200000      7.000000      7.000000      7.200000      7.000000   \n",
       "25%        7.400000      7.200000      7.200000      7.300000      7.200000   \n",
       "50%        7.500000      7.200000      7.200000      7.300000      7.200000   \n",
       "75%        7.500000      7.300000      7.300000      7.500000      7.300000   \n",
       "max        7.800000      7.500000      7.500000      7.600000      7.500000   \n",
       "\n",
       "       ILMN_3311190  \n",
       "count     48.000000  \n",
       "mean       7.287500  \n",
       "std        0.098121  \n",
       "min        7.100000  \n",
       "25%        7.200000  \n",
       "50%        7.300000  \n",
       "75%        7.400000  \n",
       "max        7.500000  \n",
       "\n",
       "[8 rows x 47323 columns]"
      ]
     },
     "execution_count": 11,
     "metadata": {},
     "output_type": "execute_result"
    }
   ],
   "source": [
    "descricao=data.describe()\n",
    "descricao"
   ]
  },
  {
   "cell_type": "markdown",
   "metadata": {},
   "source": [
    "**SECÇAO 2**"
   ]
  },
  {
   "cell_type": "markdown",
   "metadata": {},
   "source": [
    "Análise estatística"
   ]
  },
  {
   "cell_type": "code",
   "execution_count": 12,
   "metadata": {},
   "outputs": [
    {
     "name": "stderr",
     "output_type": "stream",
     "text": [
      "/home/monica/.local/lib/python3.10/site-packages/sklearn/cluster/_kmeans.py:870: FutureWarning: The default value of `n_init` will change from 10 to 'auto' in 1.4. Set the value of `n_init` explicitly to suppress the warning\n",
      "  warnings.warn(\n"
     ]
    },
    {
     "data": {
      "text/html": [
       "<div>\n",
       "<style scoped>\n",
       "    .dataframe tbody tr th:only-of-type {\n",
       "        vertical-align: middle;\n",
       "    }\n",
       "\n",
       "    .dataframe tbody tr th {\n",
       "        vertical-align: top;\n",
       "    }\n",
       "\n",
       "    .dataframe thead th {\n",
       "        text-align: right;\n",
       "    }\n",
       "</style>\n",
       "<table border=\"1\" class=\"dataframe\">\n",
       "  <thead>\n",
       "    <tr style=\"text-align: right;\">\n",
       "      <th>time</th>\n",
       "      <th>hour 1.5</th>\n",
       "      <th>hour 10</th>\n",
       "      <th>hour 24</th>\n",
       "      <th>hour 4</th>\n",
       "    </tr>\n",
       "    <tr>\n",
       "      <th>clusters</th>\n",
       "      <th></th>\n",
       "      <th></th>\n",
       "      <th></th>\n",
       "      <th></th>\n",
       "    </tr>\n",
       "  </thead>\n",
       "  <tbody>\n",
       "    <tr>\n",
       "      <th>0</th>\n",
       "      <td>6</td>\n",
       "      <td>4</td>\n",
       "      <td>2</td>\n",
       "      <td>7</td>\n",
       "    </tr>\n",
       "    <tr>\n",
       "      <th>1</th>\n",
       "      <td>6</td>\n",
       "      <td>6</td>\n",
       "      <td>3</td>\n",
       "      <td>5</td>\n",
       "    </tr>\n",
       "    <tr>\n",
       "      <th>2</th>\n",
       "      <td>0</td>\n",
       "      <td>1</td>\n",
       "      <td>4</td>\n",
       "      <td>0</td>\n",
       "    </tr>\n",
       "    <tr>\n",
       "      <th>3</th>\n",
       "      <td>0</td>\n",
       "      <td>1</td>\n",
       "      <td>3</td>\n",
       "      <td>0</td>\n",
       "    </tr>\n",
       "  </tbody>\n",
       "</table>\n",
       "</div>"
      ],
      "text/plain": [
       "time      hour 1.5  hour 10  hour 24  hour 4\n",
       "clusters                                    \n",
       "0                6        4        2       7\n",
       "1                6        6        3       5\n",
       "2                0        1        4       0\n",
       "3                0        1        3       0"
      ]
     },
     "execution_count": 12,
     "metadata": {},
     "output_type": "execute_result"
    }
   ],
   "source": [
    "k=4\n",
    "kmeans = KMeans(n_clusters=k, max_iter=1000)\n",
    "kmeans.fit(data_scale)\n",
    "labels = kmeans.labels_\n",
    "centroids = kmeans.cluster_centers_\n",
    "\n",
    "pd.crosstab(labels, meta['time'], rownames=['clusters'] )"
   ]
  },
  {
   "cell_type": "markdown",
   "metadata": {},
   "source": [
    "**SECÇAO 3**"
   ]
  },
  {
   "cell_type": "code",
   "execution_count": 13,
   "metadata": {},
   "outputs": [
    {
     "name": "stdout",
     "output_type": "stream",
     "text": [
      "48\n"
     ]
    }
   ],
   "source": [
    "input_data = data.values\n",
    "output_data = meta['time'].values\n",
    "input_sc = preprocessing.scale(input_data)\n",
    "print(len(input_sc))\n",
    "indices = np.random.permutation(len(input_data))\n",
    "indices\n",
    "\n",
    "train_in = input_sc[indices[:-16]]                #divisao entre dados de treino e dados de teste\n",
    "train_out = output_data[indices[:-16]]\n",
    "test_in  = input_sc[indices[-16:]]\n",
    "test_out = output_data[indices[-16:]]"
   ]
  },
  {
   "cell_type": "markdown",
   "metadata": {},
   "source": [
    "K-neighbors"
   ]
  },
  {
   "cell_type": "code",
   "execution_count": 14,
   "metadata": {},
   "outputs": [
    {
     "name": "stdout",
     "output_type": "stream",
     "text": [
      "Valores previstos:  ['hour 10' 'hour 1.5' 'hour 4' 'hour 1.5' 'hour 10' 'hour 1.5' 'hour 24'\n",
      " 'hour 24' 'hour 1.5' 'hour 1.5' 'hour 4' 'hour 4' 'hour 1.5' 'hour 1.5'\n",
      " 'hour 24' 'hour 4']\n",
      "Valores reais:  ['hour 10' 'hour 10' 'hour 4' 'hour 24' 'hour 10' 'hour 4' 'hour 4'\n",
      " 'hour 10' 'hour 10' 'hour 1.5' 'hour 24' 'hour 4' 'hour 10' 'hour 1.5'\n",
      " 'hour 10' 'hour 4']\n"
     ]
    },
    {
     "data": {
      "text/plain": [
       "0.4375"
      ]
     },
     "execution_count": 14,
     "metadata": {},
     "output_type": "execute_result"
    }
   ],
   "source": [
    "knn = KNeighborsClassifier()\n",
    "knn.fit(train_in, train_out)\n",
    "preds_knn = knn.predict(test_in)\n",
    "print(\"Valores previstos: \", preds_knn)\n",
    "print(\"Valores reais: \" , test_out)\n",
    "from sklearn.metrics import accuracy_score\n",
    "accuracy_score(preds_knn, test_out)"
   ]
  },
  {
   "cell_type": "markdown",
   "metadata": {},
   "source": [
    "Tree descision"
   ]
  },
  {
   "cell_type": "code",
   "execution_count": 15,
   "metadata": {},
   "outputs": [
    {
     "name": "stdout",
     "output_type": "stream",
     "text": [
      "Valores previstos:  ['hour 4' 'hour 24' 'hour 24' 'hour 24' 'hour 4' 'hour 24' 'hour 24'\n",
      " 'hour 10' 'hour 24' 'hour 1.5' 'hour 24' 'hour 24' 'hour 4' 'hour 4'\n",
      " 'hour 24' 'hour 10']\n",
      "Valores reais:  ['hour 10' 'hour 10' 'hour 4' 'hour 24' 'hour 10' 'hour 4' 'hour 4'\n",
      " 'hour 10' 'hour 10' 'hour 1.5' 'hour 24' 'hour 4' 'hour 10' 'hour 1.5'\n",
      " 'hour 10' 'hour 4']\n"
     ]
    },
    {
     "data": {
      "text/plain": [
       "0.25"
      ]
     },
     "execution_count": 15,
     "metadata": {},
     "output_type": "execute_result"
    }
   ],
   "source": [
    "tree_model = tree.DecisionTreeClassifier()\n",
    "tree_model = tree_model.fit(train_in, train_out)\n",
    "preds_tree = tree_model.predict(test_in)\n",
    "\n",
    "print(\"Valores previstos: \", preds_tree)\n",
    "print(\"Valores reais: \" , test_out)\n",
    "sum(preds_tree == test_out) / len(preds_tree)"
   ]
  },
  {
   "cell_type": "markdown",
   "metadata": {},
   "source": [
    "SVM"
   ]
  },
  {
   "cell_type": "code",
   "execution_count": 16,
   "metadata": {},
   "outputs": [
    {
     "name": "stdout",
     "output_type": "stream",
     "text": [
      "Valores previstos:  ['hour 24' 'hour 1.5' 'hour 24' 'hour 1.5' 'hour 24' 'hour 1.5' 'hour 24'\n",
      " 'hour 24' 'hour 1.5' 'hour 1.5' 'hour 1.5' 'hour 24' 'hour 1.5' 'hour 24'\n",
      " 'hour 24' 'hour 24']\n",
      "Valores reais:  ['hour 10' 'hour 10' 'hour 4' 'hour 24' 'hour 10' 'hour 4' 'hour 4'\n",
      " 'hour 10' 'hour 10' 'hour 1.5' 'hour 24' 'hour 4' 'hour 10' 'hour 1.5'\n",
      " 'hour 10' 'hour 4']\n"
     ]
    },
    {
     "data": {
      "text/plain": [
       "0.0625"
      ]
     },
     "execution_count": 16,
     "metadata": {},
     "output_type": "execute_result"
    }
   ],
   "source": [
    "model_svm = svm.SVC(gamma=0.001, C=100.)\n",
    "model_svm = model_svm.fit(train_in, train_out)\n",
    "preds_svm = model_svm.predict(test_in)\n",
    "\n",
    "print(\"Valores previstos: \" , preds_svm)\n",
    "print(\"Valores reais: \" , test_out)\n",
    "sum(preds_svm == test_out) / len(preds_svm)"
   ]
  },
  {
   "cell_type": "markdown",
   "metadata": {},
   "source": [
    "Comparacao dos modelos"
   ]
  },
  {
   "cell_type": "code",
   "execution_count": 17,
   "metadata": {},
   "outputs": [
    {
     "name": "stdout",
     "output_type": "stream",
     "text": [
      "[0.5        0.6        0.5        0.44444444 0.66666667]\n",
      "0.5422222222222222\n"
     ]
    }
   ],
   "source": [
    "scores_tree = cross_val_score(tree_model, input_sc, output_data, cv = 5)\n",
    "print(scores_tree)\n",
    "print(scores_tree.mean())"
   ]
  },
  {
   "cell_type": "code",
   "execution_count": 18,
   "metadata": {},
   "outputs": [
    {
     "name": "stdout",
     "output_type": "stream",
     "text": [
      "[0.3        0.1        0.2        0.11111111 0.22222222]\n",
      "0.1866666666666667\n"
     ]
    }
   ],
   "source": [
    "scores_svm = cross_val_score(model_svm, input_sc, output_data, cv = 5)\n",
    "print(scores_svm)\n",
    "print(scores_svm.mean())"
   ]
  },
  {
   "cell_type": "code",
   "execution_count": 19,
   "metadata": {},
   "outputs": [],
   "source": [
    "dados=pd.DataFrame(data_scale)"
   ]
  }
 ],
 "metadata": {
  "kernelspec": {
   "display_name": "Python 3 (ipykernel)",
   "language": "python",
   "name": "python3"
  },
  "language_info": {
   "codemirror_mode": {
    "name": "ipython",
    "version": 3
   },
   "file_extension": ".py",
   "mimetype": "text/x-python",
   "name": "python",
   "nbconvert_exporter": "python",
   "pygments_lexer": "ipython3",
   "version": "3.9.7"
  },
  "vscode": {
   "interpreter": {
    "hash": "916dbcbb3f70747c44a77c7bcd40155683ae19c65e1c03b4aa3499c5328201f1"
   }
  }
 },
 "nbformat": 4,
 "nbformat_minor": 2
}
