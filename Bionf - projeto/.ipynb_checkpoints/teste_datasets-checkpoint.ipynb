{
 "cells": [
  {
   "cell_type": "code",
   "execution_count": 1,
   "metadata": {},
   "outputs": [],
   "source": [
    "import pandas as pd\n"
   ]
  },
  {
   "cell_type": "code",
   "execution_count": 2,
   "metadata": {},
   "outputs": [
    {
     "name": "stdout",
     "output_type": "stream",
     "text": [
      "(48107, 48)\n",
      "(48, 4)\n"
     ]
    }
   ],
   "source": [
    "#carregamento de dados e meta dados\n",
    "data6 = pd.read_csv('gds5473.csv',sep=',', index_col = 0)\n",
    "meta6 = pd.read_csv('meta-gds5473.csv',sep=',', index_col = 0)"
   ]
  },
  {
   "cell_type": "code",
   "execution_count": 7,
   "metadata": {
    "collapsed": true
   },
   "outputs": [
    {
     "name": "stdout",
     "output_type": "stream",
     "text": [
      "                sample  individual      time  \\\n",
      "GSM1348553  GSM1348553   subject 1  hour 1.5   \n",
      "GSM1348554  GSM1348554   subject 1    hour 4   \n",
      "GSM1348555  GSM1348555   subject 1   hour 10   \n",
      "GSM1348556  GSM1348556   subject 1   hour 24   \n",
      "GSM1348557  GSM1348557   subject 2  hour 1.5   \n",
      "GSM1348558  GSM1348558   subject 2    hour 4   \n",
      "GSM1348559  GSM1348559   subject 2   hour 10   \n",
      "GSM1348560  GSM1348560   subject 2   hour 24   \n",
      "GSM1348561  GSM1348561   subject 3  hour 1.5   \n",
      "GSM1348562  GSM1348562   subject 3    hour 4   \n",
      "GSM1348563  GSM1348563   subject 3   hour 10   \n",
      "GSM1348564  GSM1348564   subject 3   hour 24   \n",
      "GSM1348565  GSM1348565   subject 4  hour 1.5   \n",
      "GSM1348566  GSM1348566   subject 4    hour 4   \n",
      "GSM1348567  GSM1348567   subject 4   hour 10   \n",
      "GSM1348568  GSM1348568   subject 4   hour 24   \n",
      "GSM1348569  GSM1348569   subject 5  hour 1.5   \n",
      "GSM1348570  GSM1348570   subject 5    hour 4   \n",
      "GSM1348571  GSM1348571   subject 5   hour 10   \n",
      "GSM1348572  GSM1348572   subject 5   hour 24   \n",
      "GSM1348573  GSM1348573   subject 6  hour 1.5   \n",
      "GSM1348574  GSM1348574   subject 6    hour 4   \n",
      "GSM1348575  GSM1348575   subject 6   hour 10   \n",
      "GSM1348576  GSM1348576   subject 6   hour 24   \n",
      "GSM1348577  GSM1348577   subject 7  hour 1.5   \n",
      "GSM1348578  GSM1348578   subject 7    hour 4   \n",
      "GSM1348579  GSM1348579   subject 7   hour 10   \n",
      "GSM1348580  GSM1348580   subject 7   hour 24   \n",
      "GSM1348581  GSM1348581   subject 8  hour 1.5   \n",
      "GSM1348582  GSM1348582   subject 8    hour 4   \n",
      "GSM1348583  GSM1348583   subject 8   hour 10   \n",
      "GSM1348584  GSM1348584   subject 8   hour 24   \n",
      "GSM1348585  GSM1348585   subject 9  hour 1.5   \n",
      "GSM1348586  GSM1348586   subject 9    hour 4   \n",
      "GSM1348587  GSM1348587   subject 9   hour 10   \n",
      "GSM1348588  GSM1348588   subject 9   hour 24   \n",
      "GSM1348589  GSM1348589  subject 10  hour 1.5   \n",
      "GSM1348590  GSM1348590  subject 10    hour 4   \n",
      "GSM1348591  GSM1348591  subject 10   hour 10   \n",
      "GSM1348592  GSM1348592  subject 10   hour 24   \n",
      "GSM1348593  GSM1348593  subject 11  hour 1.5   \n",
      "GSM1348594  GSM1348594  subject 11    hour 4   \n",
      "GSM1348595  GSM1348595  subject 11   hour 10   \n",
      "GSM1348596  GSM1348596  subject 11   hour 24   \n",
      "GSM1348597  GSM1348597  subject 12  hour 1.5   \n",
      "GSM1348598  GSM1348598  subject 12    hour 4   \n",
      "GSM1348599  GSM1348599  subject 12   hour 10   \n",
      "GSM1348600  GSM1348600  subject 12   hour 24   \n",
      "\n",
      "                                                  description  \n",
      "GSM1348553  Value for GSM1348553: Subject 1 - 1,5h post-me...  \n",
      "GSM1348554  Value for GSM1348554: Subject 1 - 4h post-meal...  \n",
      "GSM1348555  Value for GSM1348555: Subject 1 - 10h post-mea...  \n",
      "GSM1348556  Value for GSM1348556: Subject 1 - 24h post-mea...  \n",
      "GSM1348557  Value for GSM1348557: Subject 2 - 1,5h post-me...  \n",
      "GSM1348558  Value for GSM1348558: Subject 2 - 4h post-meal...  \n",
      "GSM1348559  Value for GSM1348559: Subject 2 - 10h post-mea...  \n",
      "GSM1348560  Value for GSM1348560: Subject 2 - 24h post-mea...  \n",
      "GSM1348561  Value for GSM1348561: Subject 3 - 1,5h post-me...  \n",
      "GSM1348562  Value for GSM1348562: Subject 3 - 4h post-meal...  \n",
      "GSM1348563  Value for GSM1348563: Subject 3 - 10h post-mea...  \n",
      "GSM1348564  Value for GSM1348564: Subject 3 - 24h post-mea...  \n",
      "GSM1348565  Value for GSM1348565: Subject 4 - 1,5h post-me...  \n",
      "GSM1348566  Value for GSM1348566: Subject 4 - 4h post-meal...  \n",
      "GSM1348567  Value for GSM1348567: Subject 4 - 10h post-mea...  \n",
      "GSM1348568  Value for GSM1348568: Subject 4 - 24h post-mea...  \n",
      "GSM1348569  Value for GSM1348569: Subject 5 - 1,5h post-me...  \n",
      "GSM1348570  Value for GSM1348570: Subject 5 - 4h post-meal...  \n",
      "GSM1348571  Value for GSM1348571: Subject 5 - 10h post-mea...  \n",
      "GSM1348572  Value for GSM1348572: Subject 5 - 24h post-mea...  \n",
      "GSM1348573  Value for GSM1348573: Subject 6 - 1,5h post-me...  \n",
      "GSM1348574  Value for GSM1348574: Subject 6 - 4h post-meal...  \n",
      "GSM1348575  Value for GSM1348575: Subject 6 - 10h post-mea...  \n",
      "GSM1348576  Value for GSM1348576: Subject 6 - 24h post-mea...  \n",
      "GSM1348577  Value for GSM1348577: Subject 7 - 1,5h post-me...  \n",
      "GSM1348578  Value for GSM1348578: Subject 7 - 4h post-meal...  \n",
      "GSM1348579  Value for GSM1348579: Subject 7 - 10h post-mea...  \n",
      "GSM1348580  Value for GSM1348580: Subject 7 - 24h post-mea...  \n",
      "GSM1348581  Value for GSM1348581: Subject 8 - 1,5h post-me...  \n",
      "GSM1348582  Value for GSM1348582: Subject 8 - 4h post-meal...  \n",
      "GSM1348583  Value for GSM1348583: Subject 8 - 10h post-mea...  \n",
      "GSM1348584  Value for GSM1348584: Subject 8 - 24h post-mea...  \n",
      "GSM1348585  Value for GSM1348585: Subject 9 - 1,5h post-me...  \n",
      "GSM1348586  Value for GSM1348586: Subject 9 - 4h post-meal...  \n",
      "GSM1348587  Value for GSM1348587: Subject 9 - 10h post-mea...  \n",
      "GSM1348588  Value for GSM1348588: Subject 9 - 24h post-mea...  \n",
      "GSM1348589  Value for GSM1348589: Subject 10 - 1,5h post-m...  \n",
      "GSM1348590  Value for GSM1348590: Subject 10 - 4h post-mea...  \n",
      "GSM1348591  Value for GSM1348591: Subject 10 - 10h post-me...  \n",
      "GSM1348592  Value for GSM1348592: Subject 10 - 24h post-me...  \n",
      "GSM1348593  Value for GSM1348593: Subject 11 - 1,5h post-m...  \n",
      "GSM1348594  Value for GSM1348594: Subject 11 - 4h post-mea...  \n",
      "GSM1348595  Value for GSM1348595: Subject 11 - 10h post-me...  \n",
      "GSM1348596  Value for GSM1348596: Subject 11 - 24h post-me...  \n",
      "GSM1348597  Value for GSM1348597: Subject 12 - 1,5h post-m...  \n",
      "GSM1348598  Value for GSM1348598: Subject 12 - 4h post-mea...  \n",
      "GSM1348599  Value for GSM1348599: Subject 12 - 10h post-me...  \n",
      "GSM1348600  Value for GSM1348600: Subject 12 - 24h post-me...  \n"
     ]
    }
   ],
   "source": []
  }
 ],
 "metadata": {
  "kernelspec": {
   "display_name": "Python 3 (ipykernel)",
   "language": "python",
   "name": "python3"
  },
  "language_info": {
   "codemirror_mode": {
    "name": "ipython",
    "version": 3
   },
   "file_extension": ".py",
   "mimetype": "text/x-python",
   "name": "python",
   "nbconvert_exporter": "python",
   "pygments_lexer": "ipython3",
   "version": "3.9.12"
  },
  "vscode": {
   "interpreter": {
    "hash": "a8a2f7cb0115a75d3c52345e7e5e6afc0f889fdd68645118a4c4ccba629d222c"
   }
  }
 },
 "nbformat": 4,
 "nbformat_minor": 2
}
