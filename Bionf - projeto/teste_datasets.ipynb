{
 "cells": [
  {
   "cell_type": "code",
   "execution_count": 87,
   "metadata": {},
   "outputs": [],
   "source": [
    "import pandas as pd\n",
    "from sklearn import preprocessing\n",
    "from sklearn.decomposition import PCA\n",
    "import matplotlib.pyplot as plt\n",
    "import numpy as np\n",
    "from sklearn.neighbors import KNeighborsClassifier"
   ]
  },
  {
   "cell_type": "code",
   "execution_count": 60,
   "metadata": {},
   "outputs": [],
   "source": [
    "# carregamento de dados e metadados\n",
    "datai = pd.read_csv('gds5473.csv',sep=',', index_col = 0)\n",
    "meta = pd.read_csv('meta-gds5473.csv',sep=',', index_col = 0)"
   ]
  },
  {
   "cell_type": "code",
   "execution_count": 61,
   "metadata": {},
   "outputs": [
    {
     "name": "stdout",
     "output_type": "stream",
     "text": [
      "(48107, 48)\n",
      "(48, 4)\n"
     ]
    }
   ],
   "source": [
    "# verificaçao colunas e linhas de dados e metadados\n",
    "print(datai.values.shape)\n",
    "print(meta.values.shape)"
   ]
  },
  {
   "attachments": {},
   "cell_type": "markdown",
   "metadata": {},
   "source": [
    "**Análise de dados e metadados**\n",
    "\n",
    "Verifica-se que os dados são compostos por 48107 linhas e 48 colunas.\n",
    "Por outro lado, os metadados são compostos por 48 linhas e 4 colunas.\n",
    "\n",
    "Assim, terá de se proceder à criação da matriz de dados transposta."
   ]
  },
  {
   "cell_type": "code",
   "execution_count": 83,
   "metadata": {},
   "outputs": [],
   "source": [
    "data=datai.transpose()\n"
   ]
  },
  {
   "attachments": {},
   "cell_type": "markdown",
   "metadata": {
    "collapsed": true
   },
   "source": [
    "**Descrição e caracterização do dataset**\n",
    "\n",
    "O objetivo deste estudo era investigar os efeitos de um jejum curto na homeostase e na energia do músculo esquelético. Neste estudo foram colecionadas biopsias do músculo esquelético e análisadas em quatro situações diferentes: 1.5, 4, 10 e 24 horas após a refeição.\n",
    "\n",
    "Assim, pretende-se relacionar o valor total de RNA obtido com o jejum.\n",
    "\n",
    "Como se pode verificar, existem até 48107 genes que serão analisados e que, consequentemente, possam ter uma influencia para o estudo. No entanto (e como se verificará mais à frente), pode não se verificar o resgisto de determinados genes (valores nulos).\n",
    "\n",
    "Quanto aos metadados, verifica-se que possuem 4 variaveis: a amostra, o indivíduo, a hora de recolha e a descrição"
   ]
  },
  {
   "cell_type": "code",
   "execution_count": 63,
   "metadata": {},
   "outputs": [
    {
     "name": "stdout",
     "output_type": "stream",
     "text": [
      "Valores em falta para cada atributo dos dados:\n",
      "ILMN_1343048    48\n",
      "ILMN_1343049    48\n",
      "ILMN_1343050    48\n",
      "ILMN_1343052    48\n",
      "ILMN_1343059    48\n",
      "                ..\n",
      "ILMN_3311180     0\n",
      "ILMN_3311185     0\n",
      "ILMN_3311190     0\n",
      "hora             0\n",
      "individuo        0\n",
      "Length: 48109, dtype: int64\n",
      "\n",
      "Total de valores em falta nos dados:\n",
      "37632\n"
     ]
    }
   ],
   "source": [
    "# valores em falta nos dados \n",
    "print(\"Valores em falta para cada atributo dos dados:\")\n",
    "print(data.isnull().sum())\n",
    "print(\"\")\n",
    "print(\"Total de valores em falta nos dados:\")\n",
    "print(data.isnull().sum().sum())"
   ]
  },
  {
   "cell_type": "code",
   "execution_count": 64,
   "metadata": {},
   "outputs": [
    {
     "name": "stdout",
     "output_type": "stream",
     "text": [
      "Valores em falta para cada atributo dos metadados:\n",
      "sample         0\n",
      "individual     0\n",
      "time           0\n",
      "description    0\n",
      "dtype: int64\n",
      "\n",
      "Total de valores em falta nos metadados:\n",
      "0\n"
     ]
    }
   ],
   "source": [
    "# valores em falta nos metadados \n",
    "print(\"Valores em falta para cada atributo dos metadados:\")\n",
    "print(meta.isnull().sum())\n",
    "print(\"\")\n",
    "print(\"Total de valores em falta nos metadados:\")\n",
    "print(meta.isnull().sum().sum())"
   ]
  },
  {
   "cell_type": "code",
   "execution_count": 65,
   "metadata": {},
   "outputs": [
    {
     "name": "stdout",
     "output_type": "stream",
     "text": [
      "Tipos de atributos (dados):\n",
      "ILMN_1343048    float64\n",
      "ILMN_1343049    float64\n",
      "ILMN_1343050    float64\n",
      "ILMN_1343052    float64\n",
      "ILMN_1343059    float64\n",
      "                 ...   \n",
      "ILMN_3311180    float64\n",
      "ILMN_3311185    float64\n",
      "ILMN_3311190    float64\n",
      "hora             object\n",
      "individuo        object\n",
      "Length: 48109, dtype: object\n"
     ]
    }
   ],
   "source": [
    "# verificaçao do tipo de atributos nos dados\n",
    "print(\"Tipos de atributos (dados):\")\n",
    "print(data.dtypes)"
   ]
  },
  {
   "cell_type": "code",
   "execution_count": 66,
   "metadata": {},
   "outputs": [
    {
     "name": "stdout",
     "output_type": "stream",
     "text": [
      "Tipos de atributos (metadados):\n",
      "sample         object\n",
      "individual     object\n",
      "time           object\n",
      "description    object\n",
      "dtype: object\n"
     ]
    }
   ],
   "source": [
    "# verificaçao do tipo de atributos nos metadados\n",
    "print(\"Tipos de atributos (metadados):\")\n",
    "print(meta.dtypes)"
   ]
  },
  {
   "attachments": {},
   "cell_type": "markdown",
   "metadata": {},
   "source": [
    "**Características dos dados e metadados**\n",
    "\n",
    "Dados:\n",
    "Os atributos dos dados são os diferentes tipos de gene (como por exemplo: ILMN_1343048, ILMN_1343049). Há 48107 atributos e são do tipo *float64*.\n",
    "\n",
    "Metadados: \n",
    "Os atributos dos metadados são a amostra, o índividuo, o tempo após a refeição e a descrição. Estes atributos são do tipo *object*."
   ]
  },
  {
   "cell_type": "code",
   "execution_count": 84,
   "metadata": {},
   "outputs": [
    {
     "name": "stdout",
     "output_type": "stream",
     "text": [
      "(48, 47323)\n"
     ]
    }
   ],
   "source": [
    "#pre-processamento dos dados\n",
    "data.dropna(axis=\"columns\", inplace=True)             #removem-se os valores nulos, dropna() remove as linhas que contêm valores nulos\n",
    "data_scale = preprocessing.scale(data)\n",
    "print(data_scale.shape)\n"
   ]
  },
  {
   "attachments": {},
   "cell_type": "markdown",
   "metadata": {},
   "source": [
    "**Passos do pré-processamento**\n",
    "\n",
    "Primeiro, eliminaram-se os valores nulos com a função dropna(). Seguidamente, procedeu-se à normalização dos dados com o algoritmo preprocessing.scale().\n",
    "\n",
    "Note-se que, após o pré-processamento dos dados, restam 47323 genes para análise."
   ]
  },
  {
   "attachments": {},
   "cell_type": "markdown",
   "metadata": {},
   "source": [
    "**Escolha de variáveis de meta-dados**\n",
    "\n",
    "Uma vez que os meta-dados possuem quatro variáveis (\"sample\", \"individual\", \"time\", \"description\"), apenas serão utilizadas duas: \"individual\" e \"time\". As variáveis \"sample\" e \"description\" não foram consideradas uma vez que não possuem informação relevante para a análise dos dados (como cluster, aprendizagem máquina, etc)."
   ]
  },
  {
   "cell_type": "code",
   "execution_count": 71,
   "metadata": {},
   "outputs": [
    {
     "name": "stdout",
     "output_type": "stream",
     "text": [
      "[6.00652010e-02 5.69230496e-02 3.82744447e-02 3.37939965e-02\n",
      " 2.96700818e-02 2.91411319e-02 2.55861292e-02 2.49198978e-02\n",
      " 2.34602566e-02 2.33634716e-02 2.28557326e-02 2.24160873e-02\n",
      " 2.13367322e-02 2.12811765e-02 2.03312678e-02 2.02027770e-02\n",
      " 2.00700632e-02 1.96958449e-02 1.92742287e-02 1.87673361e-02\n",
      " 1.85293743e-02 1.83705203e-02 1.81618565e-02 1.80245655e-02\n",
      " 1.78917138e-02 1.77861353e-02 1.76320580e-02 1.74164056e-02\n",
      " 1.72243474e-02 1.71625092e-02 1.70850126e-02 1.68293419e-02\n",
      " 1.67969827e-02 1.66771443e-02 1.64783409e-02 1.62990324e-02\n",
      " 1.61840362e-02 1.60169198e-02 1.58985659e-02 1.58762825e-02\n",
      " 1.57440996e-02 1.55792569e-02 1.54429585e-02 1.52827806e-02\n",
      " 1.49580782e-02 1.48114916e-02 1.44112826e-02 4.65990700e-33]\n",
      "0.9095141516999558\n"
     ]
    },
    {
     "data": {
      "image/png": "[encoded data removed]",
      "text/plain": [
       "<Figure size 1440x432 with 1 Axes>"
      ]
     },
     "metadata": {
      "needs_background": "light"
     },
     "output_type": "display_data"
    }
   ],
   "source": [
    "n=48                                                                # existem 48 amostras para proceder à análise\n",
    "pca = PCA(n_components=n)\n",
    "pca.fit(data_scale)                                                           # media e desvio\n",
    "x_reduced = pca.transform(data_scale)                                         # escala\n",
    "print (pca.explained_variance_ratio_) \n",
    "print(sum(pca.explained_variance_ratio_[:41]))                          # 90% da variabilidade\n",
    "\n",
    "per_var=np.round(pca.explained_variance_ratio_*100, decimals=1)\n",
    "labels=[\"PC\"+str(x) for x in range(1,len(per_var)+1)]                  \n",
    "plt.figure(figsize=(20, 6))  # width:20, height:3\n",
    "\n",
    "plt.bar([x*2 for x in range(1,len(per_var)+1)], height=per_var, align=\"center\", width=1)\n",
    "plt.ylabel(\"Percentagem da variação explicada\")\n",
    "plt.xticks([x*2 for x in range(1,len(per_var)+1)], labels, rotation=45)\n",
    "\n",
    "    \n",
    "plt.show()\n"
   ]
  },
  {
   "cell_type": "code",
   "execution_count": 72,
   "metadata": {},
   "outputs": [],
   "source": [
    "descricao=data.describe()"
   ]
  },
  {
   "cell_type": "code",
   "execution_count": null,
   "metadata": {},
   "outputs": [
    {
     "name": "stdout",
     "output_type": "stream",
     "text": [
      "14.0\n"
     ]
    }
   ],
   "source": [
    "print(descricao.iloc[3][1])\n"
   ]
  },
  {
   "attachments": {},
   "cell_type": "markdown",
   "metadata": {},
   "source": [
    "**SECÇAO 2**"
   ]
  },
  {
   "attachments": {},
   "cell_type": "markdown",
   "metadata": {},
   "source": [
    "Análise estatística"
   ]
  },
  {
   "cell_type": "code",
   "execution_count": 82,
   "metadata": {},
   "outputs": [
    {
     "data": {
      "text/html": [
       "<div>\n",
       "<style scoped>\n",
       "    .dataframe tbody tr th:only-of-type {\n",
       "        vertical-align: middle;\n",
       "    }\n",
       "\n",
       "    .dataframe tbody tr th {\n",
       "        vertical-align: top;\n",
       "    }\n",
       "\n",
       "    .dataframe thead th {\n",
       "        text-align: right;\n",
       "    }\n",
       "</style>\n",
       "<table border=\"1\" class=\"dataframe\">\n",
       "  <thead>\n",
       "    <tr style=\"text-align: right;\">\n",
       "      <th>hora</th>\n",
       "      <th>hour 1.5</th>\n",
       "      <th>hour 10</th>\n",
       "      <th>hour 24</th>\n",
       "      <th>hour 4</th>\n",
       "    </tr>\n",
       "    <tr>\n",
       "      <th>clusters</th>\n",
       "      <th></th>\n",
       "      <th></th>\n",
       "      <th></th>\n",
       "      <th></th>\n",
       "    </tr>\n",
       "  </thead>\n",
       "  <tbody>\n",
       "    <tr>\n",
       "      <th>0</th>\n",
       "      <td>0</td>\n",
       "      <td>2</td>\n",
       "      <td>6</td>\n",
       "      <td>0</td>\n",
       "    </tr>\n",
       "    <tr>\n",
       "      <th>1</th>\n",
       "      <td>6</td>\n",
       "      <td>7</td>\n",
       "      <td>3</td>\n",
       "      <td>7</td>\n",
       "    </tr>\n",
       "    <tr>\n",
       "      <th>2</th>\n",
       "      <td>4</td>\n",
       "      <td>2</td>\n",
       "      <td>3</td>\n",
       "      <td>4</td>\n",
       "    </tr>\n",
       "    <tr>\n",
       "      <th>3</th>\n",
       "      <td>2</td>\n",
       "      <td>1</td>\n",
       "      <td>0</td>\n",
       "      <td>1</td>\n",
       "    </tr>\n",
       "  </tbody>\n",
       "</table>\n",
       "</div>"
      ],
      "text/plain": [
       "hora      hour 1.5  hour 10  hour 24  hour 4\n",
       "clusters                                    \n",
       "0                0        2        6       0\n",
       "1                6        7        3       7\n",
       "2                4        2        3       4\n",
       "3                2        1        0       1"
      ]
     },
     "execution_count": 82,
     "metadata": {},
     "output_type": "execute_result"
    }
   ],
   "source": [
    "from sklearn.cluster import KMeans\n",
    "\n",
    "k=4\n",
    "kmeans = KMeans(n_clusters=k, max_iter=1000)\n",
    "kmeans.fit(data_scale)\n",
    "labels = kmeans.labels_\n",
    "centroids = kmeans.cluster_centers_\n",
    "\n",
    "pd.crosstab(labels, data['hora'], rownames=['clusters'] )"
   ]
  },
  {
   "attachments": {},
   "cell_type": "markdown",
   "metadata": {},
   "source": [
    "**SECÇAO 3**"
   ]
  },
  {
   "cell_type": "code",
   "execution_count": 108,
   "metadata": {},
   "outputs": [
    {
     "name": "stdout",
     "output_type": "stream",
     "text": [
      "48\n"
     ]
    }
   ],
   "source": [
    "input_data = data.values\n",
    "output_data = meta['time'].values\n",
    "input_sc = preprocessing.scale(input_data)\n",
    "print(len(input_sc))\n",
    "indices = np.random.permutation(len(input_data))\n",
    "indices\n",
    "\n",
    "train_in = input_sc[indices[:-16]]                #divisao entre dados de treino e dados de teste\n",
    "train_out = output_data[indices[:-16]]\n",
    "test_in  = input_sc[indices[-16:]]\n",
    "test_out = output_data[indices[-16:]]"
   ]
  },
  {
   "attachments": {},
   "cell_type": "markdown",
   "metadata": {},
   "source": [
    "K-neighbors"
   ]
  },
  {
   "cell_type": "code",
   "execution_count": 109,
   "metadata": {},
   "outputs": [
    {
     "name": "stdout",
     "output_type": "stream",
     "text": [
      "Valores previstos:  ['hour 10' 'hour 4' 'hour 10' 'hour 10' 'hour 10' 'hour 10' 'hour 1.5'\n",
      " 'hour 10' 'hour 10' 'hour 1.5' 'hour 1.5' 'hour 1.5' 'hour 1.5'\n",
      " 'hour 1.5' 'hour 10' 'hour 24']\n",
      "Valores reais:  ['hour 4' 'hour 4' 'hour 10' 'hour 24' 'hour 24' 'hour 4' 'hour 1.5'\n",
      " 'hour 24' 'hour 24' 'hour 4' 'hour 24' 'hour 24' 'hour 1.5' 'hour 10'\n",
      " 'hour 4' 'hour 10']\n"
     ]
    },
    {
     "data": {
      "text/plain": [
       "0.25"
      ]
     },
     "execution_count": 109,
     "metadata": {},
     "output_type": "execute_result"
    }
   ],
   "source": [
    "knn = KNeighborsClassifier()\n",
    "knn.fit(train_in, train_out)\n",
    "preds_knn = knn.predict(test_in)\n",
    "print(\"Valores previstos: \", preds_knn)\n",
    "print(\"Valores reais: \" , test_out)\n",
    "from sklearn.metrics import accuracy_score\n",
    "accuracy_score(preds_knn, test_out)"
   ]
  },
  {
   "attachments": {},
   "cell_type": "markdown",
   "metadata": {},
   "source": [
    "Tree descision"
   ]
  },
  {
   "cell_type": "code",
   "execution_count": 110,
   "metadata": {},
   "outputs": [
    {
     "name": "stdout",
     "output_type": "stream",
     "text": [
      "Valores previstos:  ['hour 4' 'hour 4' 'hour 10' 'hour 10' 'hour 24' 'hour 4' 'hour 10'\n",
      " 'hour 24' 'hour 10' 'hour 4' 'hour 10' 'hour 10' 'hour 1.5' 'hour 10'\n",
      " 'hour 24' 'hour 10']\n",
      "Valores reais:  ['hour 4' 'hour 4' 'hour 10' 'hour 24' 'hour 24' 'hour 4' 'hour 1.5'\n",
      " 'hour 24' 'hour 24' 'hour 4' 'hour 24' 'hour 24' 'hour 1.5' 'hour 10'\n",
      " 'hour 4' 'hour 10']\n"
     ]
    },
    {
     "data": {
      "text/plain": [
       "0.625"
      ]
     },
     "execution_count": 110,
     "metadata": {},
     "output_type": "execute_result"
    }
   ],
   "source": [
    "from sklearn import tree\n",
    "\n",
    "tree_model = tree.DecisionTreeClassifier()\n",
    "tree_model = tree_model.fit(train_in, train_out)\n",
    "preds_tree = tree_model.predict(test_in)\n",
    "\n",
    "print(\"Valores previstos: \", preds_tree)\n",
    "print(\"Valores reais: \" , test_out)\n",
    "sum(preds_tree == test_out) / len(preds_tree)"
   ]
  },
  {
   "attachments": {},
   "cell_type": "markdown",
   "metadata": {},
   "source": [
    "Regressao Logistica"
   ]
  },
  {
   "cell_type": "code",
   "execution_count": 111,
   "metadata": {},
   "outputs": [
    {
     "name": "stdout",
     "output_type": "stream",
     "text": [
      "Valores previstos:  ['hour 1.5' 'hour 4' 'hour 10' 'hour 24' 'hour 24' 'hour 4' 'hour 10'\n",
      " 'hour 24' 'hour 24' 'hour 1.5' 'hour 10' 'hour 1.5' 'hour 1.5' 'hour 10'\n",
      " 'hour 10' 'hour 24']\n",
      "Valores reais:  ['hour 4' 'hour 4' 'hour 10' 'hour 24' 'hour 24' 'hour 4' 'hour 1.5'\n",
      " 'hour 24' 'hour 24' 'hour 4' 'hour 24' 'hour 24' 'hour 1.5' 'hour 10'\n",
      " 'hour 4' 'hour 10']\n"
     ]
    },
    {
     "data": {
      "text/plain": [
       "0.5625"
      ]
     },
     "execution_count": 111,
     "metadata": {},
     "output_type": "execute_result"
    }
   ],
   "source": [
    "from sklearn import linear_model\n",
    "\n",
    "logistic = linear_model.LogisticRegression(solver = \"lbfgs\", multi_class = \"auto\", max_iter = 1000)\n",
    "logistic = logistic.fit(train_in, train_out)\n",
    "preds_logr = logistic.predict(test_in)\n",
    "\n",
    "print(\"Valores previstos: \" , preds_logr)\n",
    "print(\"Valores reais: \" , test_out)\n",
    "sum(preds_logr == test_out) / len(preds_logr)"
   ]
  },
  {
   "attachments": {},
   "cell_type": "markdown",
   "metadata": {},
   "source": [
    "SVM"
   ]
  },
  {
   "cell_type": "code",
   "execution_count": 112,
   "metadata": {},
   "outputs": [
    {
     "name": "stdout",
     "output_type": "stream",
     "text": [
      "Valores previstos:  ['hour 1.5' 'hour 1.5' 'hour 1.5' 'hour 1.5' 'hour 1.5' 'hour 1.5'\n",
      " 'hour 1.5' 'hour 1.5' 'hour 1.5' 'hour 1.5' 'hour 1.5' 'hour 1.5'\n",
      " 'hour 1.5' 'hour 1.5' 'hour 1.5' 'hour 1.5']\n",
      "Valores reais:  ['hour 4' 'hour 4' 'hour 10' 'hour 24' 'hour 24' 'hour 4' 'hour 1.5'\n",
      " 'hour 24' 'hour 24' 'hour 4' 'hour 24' 'hour 24' 'hour 1.5' 'hour 10'\n",
      " 'hour 4' 'hour 10']\n"
     ]
    },
    {
     "data": {
      "text/plain": [
       "0.125"
      ]
     },
     "execution_count": 112,
     "metadata": {},
     "output_type": "execute_result"
    }
   ],
   "source": [
    "from sklearn import svm\n",
    "\n",
    "model_svm = svm.SVC(gamma=0.001, C=100.)\n",
    "model_svm = model_svm.fit(train_in, train_out)\n",
    "preds_svm = model_svm.predict(test_in)\n",
    "\n",
    "print(\"Valores previstos: \" , preds_svm)\n",
    "print(\"Valores reais: \" , test_out)\n",
    "sum(preds_svm == test_out) / len(preds_svm)"
   ]
  },
  {
   "attachments": {},
   "cell_type": "markdown",
   "metadata": {},
   "source": [
    "Comparacao dos modelos"
   ]
  },
  {
   "cell_type": "code",
   "execution_count": 113,
   "metadata": {},
   "outputs": [
    {
     "name": "stdout",
     "output_type": "stream",
     "text": [
      "[0.5        0.8        0.6        0.44444444 0.55555556]\n",
      "0.5799999999999998\n"
     ]
    }
   ],
   "source": [
    "from sklearn.model_selection import cross_val_score\n",
    "\n",
    "scores_tree = cross_val_score(tree_model, input_sc, output_data, cv = 5)\n",
    "print(scores_tree)\n",
    "print(scores_tree.mean())"
   ]
  },
  {
   "cell_type": "code",
   "execution_count": 114,
   "metadata": {},
   "outputs": [
    {
     "name": "stdout",
     "output_type": "stream",
     "text": [
      "[0.5        0.6        0.8        0.66666667 0.55555556]\n",
      "0.6244444444444446\n"
     ]
    }
   ],
   "source": [
    "scores_log = cross_val_score(logistic, input_sc, output_data, cv = 5)\n",
    "print(scores_log)\n",
    "print(scores_log.mean())"
   ]
  },
  {
   "cell_type": "code",
   "execution_count": 115,
   "metadata": {},
   "outputs": [
    {
     "name": "stdout",
     "output_type": "stream",
     "text": [
      "[0.3        0.1        0.2        0.11111111 0.22222222]\n",
      "0.1866666666666667\n"
     ]
    }
   ],
   "source": [
    "scores_svm = cross_val_score(model_svm, input_sc, output_data, cv = 5)\n",
    "print(scores_svm)\n",
    "print(scores_svm.mean())"
   ]
  }
 ],
 "metadata": {
  "kernelspec": {
   "display_name": "Python 3 (ipykernel)",
   "language": "python",
   "name": "python3"
  },
  "language_info": {
   "codemirror_mode": {
    "name": "ipython",
    "version": 3
   },
   "file_extension": ".py",
   "mimetype": "text/x-python",
   "name": "python",
   "nbconvert_exporter": "python",
   "pygments_lexer": "ipython3",
   "version": "3.9.12"
  },
  "vscode": {
   "interpreter": {
    "hash": "a8a2f7cb0115a75d3c52345e7e5e6afc0f889fdd68645118a4c4ccba629d222c"
   }
  }
 },
 "nbformat": 4,
 "nbformat_minor": 2
}
