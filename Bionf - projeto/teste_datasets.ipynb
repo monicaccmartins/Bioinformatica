{
 "cells": [
  {
   "cell_type": "code",
   "execution_count": 33,
   "metadata": {},
   "outputs": [],
   "source": [
    "import pandas as pd\n",
    "from sklearn import preprocessing\n",
    "from sklearn.decomposition import PCA\n",
    "import matplotlib.pyplot as plt"
   ]
  },
  {
   "cell_type": "code",
   "execution_count": 34,
   "metadata": {},
   "outputs": [],
   "source": [
    "# carregamento de dados e metadados\n",
    "datai = pd.read_csv('gds5473.csv',sep=',', index_col = 0)\n",
    "meta = pd.read_csv('meta-gds5473.csv',sep=',', index_col = 0)"
   ]
  },
  {
   "cell_type": "code",
   "execution_count": 35,
   "metadata": {},
   "outputs": [
    {
     "name": "stdout",
     "output_type": "stream",
     "text": [
      "(48107, 48)\n",
      "(48, 4)\n"
     ]
    }
   ],
   "source": [
    "# verificaçao colunas e linhas de dados e metadados\n",
    "print(datai.values.shape)\n",
    "print(meta.values.shape)"
   ]
  },
  {
   "attachments": {},
   "cell_type": "markdown",
   "metadata": {},
   "source": [
    "**Análise de dados e metadados**\n",
    "\n",
    "Verifica-se que os dados são compostos por 48107 linhas e 48 colunas.\n",
    "Por outro lado, os metadados são compostos por 48 linhas e 4 colunas.\n",
    "\n",
    "Assim, terá de se proceder à criação da matriz de dados transposta."
   ]
  },
  {
   "cell_type": "code",
   "execution_count": 36,
   "metadata": {},
   "outputs": [],
   "source": [
    "data=datai.transpose()"
   ]
  },
  {
   "attachments": {},
   "cell_type": "markdown",
   "metadata": {
    "collapsed": true
   },
   "source": [
    "**Descrição e caracterização do dataset**\n",
    "\n",
    "O objetivo deste estudo era investigar os efeitos de um jejum curto na homeostase e na energia do músculo esquelético. Neste estudo foram colecionadas biopsias do músculo esquelético e análisadas emquatro situações diferentes: 1.5, 4, 10 e 24 horas após a refeição.\n",
    "\n",
    "Assim, pretende-se relacionar o valor total de RNA obtido com o jejum.\n",
    "\n",
    "Como se pode verificar, existem até 48107 genes que serão analisados e que, consequentemente, possam ter uma influencia para o estudo. No entanto (e como se verificará mais à frente), pode não se verificar o resgisto de determinados genes (valores nulos).\n",
    "\n",
    "Quanto aos metadados, verifica-se que possuem 4 variaveis: a amostra, o indivíduo, a hora de recolha e a descrição"
   ]
  },
  {
   "cell_type": "code",
   "execution_count": 37,
   "metadata": {},
   "outputs": [
    {
     "name": "stdout",
     "output_type": "stream",
     "text": [
      "Valores em falta para cada atributo dos dados:\n",
      "ILMN_1343048    48\n",
      "ILMN_1343049    48\n",
      "ILMN_1343050    48\n",
      "ILMN_1343052    48\n",
      "ILMN_1343059    48\n",
      "                ..\n",
      "ILMN_3311170     0\n",
      "ILMN_3311175     0\n",
      "ILMN_3311180     0\n",
      "ILMN_3311185     0\n",
      "ILMN_3311190     0\n",
      "Length: 48107, dtype: int64\n",
      "\n",
      "Total de valores em falta nos dados:\n",
      "37632\n"
     ]
    }
   ],
   "source": [
    "# valores em falta nos dados \n",
    "print(\"Valores em falta para cada atributo dos dados:\")\n",
    "print(data.isnull().sum())\n",
    "print(\"\")\n",
    "print(\"Total de valores em falta nos dados:\")\n",
    "print(data.isnull().sum().sum())"
   ]
  },
  {
   "cell_type": "code",
   "execution_count": 38,
   "metadata": {},
   "outputs": [
    {
     "name": "stdout",
     "output_type": "stream",
     "text": [
      "Valores em falta para cada atributo dos metadados:\n",
      "sample         0\n",
      "individual     0\n",
      "time           0\n",
      "description    0\n",
      "dtype: int64\n",
      "\n",
      "Total de valores em falta nos metadados:\n",
      "0\n"
     ]
    }
   ],
   "source": [
    "# valores em falta nos metadados \n",
    "print(\"Valores em falta para cada atributo dos metadados:\")\n",
    "print(meta.isnull().sum())\n",
    "print(\"\")\n",
    "print(\"Total de valores em falta nos metadados:\")\n",
    "print(meta.isnull().sum().sum())"
   ]
  },
  {
   "cell_type": "code",
   "execution_count": 39,
   "metadata": {},
   "outputs": [
    {
     "name": "stdout",
     "output_type": "stream",
     "text": [
      "Tipos de atributos (dados):\n",
      "ILMN_1343048    float64\n",
      "ILMN_1343049    float64\n",
      "ILMN_1343050    float64\n",
      "ILMN_1343052    float64\n",
      "ILMN_1343059    float64\n",
      "                 ...   \n",
      "ILMN_3311170    float64\n",
      "ILMN_3311175    float64\n",
      "ILMN_3311180    float64\n",
      "ILMN_3311185    float64\n",
      "ILMN_3311190    float64\n",
      "Length: 48107, dtype: object\n"
     ]
    }
   ],
   "source": [
    "# verificaçao do tipo de atributos nos dados\n",
    "print(\"Tipos de atributos (dados):\")\n",
    "print(data.dtypes)"
   ]
  },
  {
   "cell_type": "code",
   "execution_count": 40,
   "metadata": {},
   "outputs": [
    {
     "name": "stdout",
     "output_type": "stream",
     "text": [
      "Tipos de atributos (metadados):\n",
      "sample         object\n",
      "individual     object\n",
      "time           object\n",
      "description    object\n",
      "dtype: object\n"
     ]
    }
   ],
   "source": [
    "# verificaçao do tipo de atributos nos metadados\n",
    "print(\"Tipos de atributos (metadados):\")\n",
    "print(meta.dtypes)"
   ]
  },
  {
   "attachments": {},
   "cell_type": "markdown",
   "metadata": {},
   "source": [
    "**Características dos dados e metadados**\n",
    "\n",
    "Dados:\n",
    "Os atributos dos dados são os diferentes tipos de gene (como por exemplo: ILMN_1343048, ILMN_1343049). Há 48107 atributos e são do tipo *float64*.\n",
    "\n",
    "Metadados: \n",
    "Os atributos dos metadados são a amostra, o índividuo, o tempo após a refeição e a descrição. Estes atributos são do tipo *object*."
   ]
  },
  {
   "cell_type": "code",
   "execution_count": 41,
   "metadata": {},
   "outputs": [
    {
     "name": "stdout",
     "output_type": "stream",
     "text": [
      "(48, 47323)\n"
     ]
    }
   ],
   "source": [
    "#pre-processamento dos dados\n",
    "data.dropna(axis=\"columns\", inplace=True)             #removem-se os valores nulos, dropna() remove as linhas que contêm valores nulos\n",
    "data = preprocessing.scale(data)\n",
    "print(data.shape)\n",
    "\n"
   ]
  },
  {
   "attachments": {},
   "cell_type": "markdown",
   "metadata": {},
   "source": [
    "**Passos do pré-processamento**\n",
    "\n",
    "Primeiro, eliminaram-se os valores nulos com a função dropna(). Seguidamente, procedeu-se à normalização dos dados com o algoritmo preprocessing.scale().\n",
    "\n",
    "Note-se que, após o pré-processamento dos dados, restam 47323 genes para análise."
   ]
  },
  {
   "attachments": {},
   "cell_type": "markdown",
   "metadata": {},
   "source": [
    "**Escolha de variáveis de meta-dados**\n",
    "\n",
    "Uma vez que os meta-dados possuem quatro variáveis (\"sample\", \"individual\", \"time\", \"description\"), apenas serão utilizadas duas: \"individual\" e \"time\". As variáveis \"sample\" e \"description\" não foram consideradas uma vez que não possuem informação relevante para a análise dos dados (como cluster, aprendizagem máquina, etc)."
   ]
  },
  {
   "cell_type": "code",
   "execution_count": 42,
   "metadata": {},
   "outputs": [
    {
     "name": "stdout",
     "output_type": "stream",
     "text": [
      "[6.00652010e-02 5.69230496e-02 3.82744447e-02 3.37939965e-02\n",
      " 2.96700818e-02 2.91411319e-02 2.55861292e-02 2.49198978e-02\n",
      " 2.34602566e-02 2.33634716e-02 2.28557326e-02 2.24160873e-02\n",
      " 2.13367322e-02 2.12811765e-02 2.03312678e-02 2.02027770e-02\n",
      " 2.00700632e-02 1.96958449e-02 1.92742287e-02 1.87673361e-02\n",
      " 1.85293743e-02 1.83705203e-02 1.81618565e-02 1.80245655e-02\n",
      " 1.78917138e-02 1.77861353e-02 1.76320580e-02 1.74164056e-02\n",
      " 1.72243474e-02 1.71625092e-02 1.70850126e-02 1.68293419e-02\n",
      " 1.67969827e-02 1.66771443e-02 1.64783409e-02 1.62990324e-02\n",
      " 1.61840362e-02 1.60169198e-02 1.58985659e-02 1.58762825e-02\n",
      " 1.57440996e-02 1.55792569e-02 1.54429585e-02 1.52827806e-02\n",
      " 1.49580782e-02 1.48114916e-02 1.44112826e-02 4.29184306e-33]\n",
      "0.9095141516999559\n"
     ]
    },
    {
     "data": {
      "image/png": "[encoded data removed]",
      "text/plain": [
       "<Figure size 432x288 with 1 Axes>"
      ]
     },
     "metadata": {
      "needs_background": "light"
     },
     "output_type": "display_data"
    }
   ],
   "source": [
    "n=48                                                                # existem 48 amostras para proceder à análise\n",
    "pca = PCA(n_components=n)\n",
    "pca.fit(data)                                                           # media e desvio\n",
    "x_reduced = pca.transform(data)                                         # escala\n",
    "print (pca.explained_variance_ratio_) \n",
    "print(sum(pca.explained_variance_ratio_[:41]))                          # 90% da variabilidade\n",
    "\n",
    "index_samples=[]\n",
    "for hora in meta.time.unique():\n",
    "    l=[]\n",
    "    for i in range(0,48):\n",
    "        if meta.time[i]==hora:\n",
    "            l.append(i)\n",
    "    index_samples.append(l)                               #criaçao de lista de index de 0 a 48, agrupados em listas correspondentes as diferentes horas\n",
    "\n",
    "i=0\n",
    "\n",
    "for hora in meta.time.unique():\n",
    "    for i in range(0,len(index_samples)):\n",
    "        if meta.time[i]==hora:\n",
    "            plt.plot(x_reduced[index_samples[i],0],x_reduced[index_samples[i],1], 'o' , label=hora)\n",
    "    i=i+1\n",
    "\n",
    "plt.title(\"PCA\")\n",
    "plt.legend(loc='best', shadow=False)\n",
    "plt.show()\n"
   ]
  }
 ],
 "metadata": {
  "kernelspec": {
   "display_name": "Python 3 (ipykernel)",
   "language": "python",
   "name": "python3"
  },
  "language_info": {
   "codemirror_mode": {
    "name": "ipython",
    "version": 3
   },
   "file_extension": ".py",
   "mimetype": "text/x-python",
   "name": "python",
   "nbconvert_exporter": "python",
   "pygments_lexer": "ipython3",
   "version": "3.9.12"
  },
  "vscode": {
   "interpreter": {
    "hash": "a8a2f7cb0115a75d3c52345e7e5e6afc0f889fdd68645118a4c4ccba629d222c"
   }
  }
 },
 "nbformat": 4,
 "nbformat_minor": 2
}
