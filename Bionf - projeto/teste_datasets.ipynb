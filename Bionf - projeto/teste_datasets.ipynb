{
 "cells": [
  {
   "cell_type": "code",
   "execution_count": 64,
   "metadata": {},
   "outputs": [],
   "source": [
    "import pandas as pd\n",
    "from sklearn import preprocessing\n",
    "from sklearn.decomposition import PCA\n",
    "import matplotlib.pyplot as plt"
   ]
  },
  {
   "cell_type": "code",
   "execution_count": 5,
   "metadata": {},
   "outputs": [],
   "source": [
    "# carregamento de dados e metadados\n",
    "data = pd.read_csv('gds5473.csv',sep=',', index_col = 0)\n",
    "meta = pd.read_csv('meta-gds5473.csv',sep=',', index_col = 0)"
   ]
  },
  {
   "cell_type": "code",
   "execution_count": 7,
   "metadata": {},
   "outputs": [
    {
     "name": "stdout",
     "output_type": "stream",
     "text": [
      "(48107, 48)\n",
      "(48, 4)\n"
     ]
    }
   ],
   "source": [
    "# verificaçao colunas e linhas de dados e metadados\n",
    "print(data.values.shape)\n",
    "print(meta.values.shape)"
   ]
  },
  {
   "attachments": {},
   "cell_type": "markdown",
   "metadata": {},
   "source": [
    "**Análise de dados e metadados**\n",
    "\n",
    "Verifica-se que os dados são compostos por 48107 linhas e 48 colunas.\n",
    "Por outro lado, os metadados são compostos por 48 linhas e 4 colunas."
   ]
  },
  {
   "attachments": {},
   "cell_type": "markdown",
   "metadata": {
    "collapsed": true
   },
   "source": [
    "**Descrição e caracterização do dataset**\n",
    "\n",
    "O objetivo deste estudo era investigar os efeitos de um jejum curto na homeostase e na energia do músculo esquelético. Neste estudo foram colecionadas biopsias do músculo esquelético e análisadas emquatro situações diferentes: 1.5, 4, 10 e 24 horas após a refeição.\n",
    "\n",
    "Assim, pretende-se relacionar o valor total de RNA obtido com o jejum.\n",
    "\n",
    "Como se pode verificar, existem até 48107 genes que serão analisados e que, consequentemente, possam ter uma influencia para o estudo. No entanto (e como se verificará mais à frente), pode não se verificar o resgisto de determinados genes (valores nulos).\n",
    "\n",
    "Quanto aos metadados, verifica-se que possuem 4 variaveis: a amostra, o indivíduo, a hora de recolha e a descrição"
   ]
  },
  {
   "cell_type": "code",
   "execution_count": 10,
   "metadata": {},
   "outputs": [
    {
     "name": "stdout",
     "output_type": "stream",
     "text": [
      "Tipos de atributos (dados):\n",
      "ILMN_1343048    float64\n",
      "ILMN_1343049    float64\n",
      "ILMN_1343050    float64\n",
      "ILMN_1343052    float64\n",
      "ILMN_1343059    float64\n",
      "                 ...   \n",
      "ILMN_3311170    float64\n",
      "ILMN_3311175    float64\n",
      "ILMN_3311180    float64\n",
      "ILMN_3311185    float64\n",
      "ILMN_3311190    float64\n",
      "Length: 48107, dtype: object\n"
     ]
    }
   ],
   "source": [
    "# verificaçao do tipo de atributos nos dados\n",
    "print(\"Tipos de atributos (dados):\")\n",
    "dataframe=pd.DataFrame(data=data)\n",
    "datat=dataframe.transpose()\n",
    "print(datat.dtypes)\n"
   ]
  },
  {
   "cell_type": "code",
   "execution_count": 18,
   "metadata": {},
   "outputs": [
    {
     "name": "stdout",
     "output_type": "stream",
     "text": [
      "Valores em falta para cada atributo dos dados:\n",
      "ILMN_1343048    48\n",
      "ILMN_1343049    48\n",
      "ILMN_1343050    48\n",
      "ILMN_1343052    48\n",
      "ILMN_1343059    48\n",
      "                ..\n",
      "ILMN_3311170     0\n",
      "ILMN_3311175     0\n",
      "ILMN_3311180     0\n",
      "ILMN_3311185     0\n",
      "ILMN_3311190     0\n",
      "Length: 48107, dtype: int64\n",
      "\n",
      "Total de valores em falta para cada atributo dos dados:\n",
      "37632\n"
     ]
    }
   ],
   "source": [
    "# valores em falta nos dados \n",
    "print(\"Valores em falta para cada atributo dos dados:\")\n",
    "print(datat.isnull().sum())\n",
    "print(\"\")\n",
    "print(\"Total de valores em falta para cada atributo dos dados:\")\n",
    "print(datat.isnull().sum().sum())"
   ]
  },
  {
   "cell_type": "code",
   "execution_count": 33,
   "metadata": {},
   "outputs": [
    {
     "name": "stdout",
     "output_type": "stream",
     "text": [
      "Tipos de atributos (metadados):\n",
      "sample         object\n",
      "individual     object\n",
      "time           object\n",
      "description    object\n",
      "dtype: object\n"
     ]
    }
   ],
   "source": [
    "# verificaçao do tipo de atributos nos metadados\n",
    "print(\"Tipos de atributos (metadados):\")\n",
    "print(meta.dtypes)"
   ]
  },
  {
   "cell_type": "code",
   "execution_count": 19,
   "metadata": {},
   "outputs": [
    {
     "name": "stdout",
     "output_type": "stream",
     "text": [
      "Valores em falta para cada atributo dos metadados:\n",
      "sample         0\n",
      "individual     0\n",
      "time           0\n",
      "description    0\n",
      "dtype: int64\n",
      "\n",
      "Total de valores em falta para cada atributo dos metadados:\n",
      "0\n"
     ]
    }
   ],
   "source": [
    "# valores em falta nos metadados \n",
    "print(\"Valores em falta para cada atributo dos metadados:\")\n",
    "print(meta.isnull().sum())\n",
    "print(\"\")\n",
    "print(\"Total de valores em falta para cada atributo dos metadados:\")\n",
    "print(meta.isnull().sum().sum())"
   ]
  },
  {
   "attachments": {},
   "cell_type": "markdown",
   "metadata": {},
   "source": [
    "**Características dos dados e metadados**\n",
    "\n",
    "Dados:\n",
    "Os atributos dos dados são os diferentes tipos de gene (como por exemplo: ILMN_1343048, ILMN_1343049). Há 48107 atributos e são do tipo *float64*.\n",
    "\n",
    "Metadados: \n",
    "Os atributos dos metadados são a amostra, o índividuo, o tempo após a refeição e a descrição. Estes atributos são do tipo *object*."
   ]
  },
  {
   "cell_type": "code",
   "execution_count": 35,
   "metadata": {},
   "outputs": [
    {
     "name": "stdout",
     "output_type": "stream",
     "text": [
      "47323\n"
     ]
    }
   ],
   "source": [
    "#pre-processamento dos dados\n",
    "data=data.dropna() #dropna() remove as linhas que contêm valores nulos\n",
    "datap = preprocessing.scale(data)\n",
    "print(len(datap))\n"
   ]
  },
  {
   "attachments": {},
   "cell_type": "markdown",
   "metadata": {},
   "source": [
    "**Passos do pré-processamento**\n",
    "\n",
    "Primeiro, eliminaram-se os valores nulos com a função dropna(). Seguidamente, procedeu-se à normalização dos dados com o algoritmo preprocessing.scale().\n",
    "\n",
    "Note-se que, após o pré-processamento dos dados, restam 47323 genes para análise."
   ]
  },
  {
   "attachments": {},
   "cell_type": "markdown",
   "metadata": {},
   "source": [
    "**Escolha de variáveis de meta-dados**\n",
    "\n",
    "Uma vez que os meta-dados possuem quatro variáveis (\"sample\", \"individual\", \"time\", \"description\"), apenas serão utilizadas duas: \"individual\" e \"time\". As variáveis \"sample\" e \"description\" não foram consideradas uma vez que não possuem informação relevante para a análise dos dados (como cluster, aprendizagem máquina, etc)."
   ]
  },
  {
   "cell_type": "code",
   "execution_count": 148,
   "metadata": {},
   "outputs": [
    {
     "name": "stdout",
     "output_type": "stream",
     "text": [
      "[9.77179240e-01 3.80320986e-03 1.92517236e-03 1.69185183e-03\n",
      " 1.00559430e-03 9.00433434e-04 8.61345557e-04 7.01968542e-04\n",
      " 6.52177592e-04 5.81417699e-04 5.65356475e-04 5.27012115e-04\n",
      " 4.71944762e-04 4.48263215e-04 4.37231612e-04 4.22286150e-04\n",
      " 3.88064685e-04 3.75646303e-04 3.32131073e-04 3.22860158e-04\n",
      " 2.99425468e-04 2.88736333e-04 2.81718028e-04 2.68043152e-04\n",
      " 2.60209498e-04 2.58384794e-04 2.54438159e-04 2.44206465e-04\n",
      " 2.42655498e-04 2.38945434e-04 2.34569444e-04 2.32055298e-04\n",
      " 2.30036729e-04 2.27181034e-04 2.25759799e-04 2.22227050e-04\n",
      " 2.18819472e-04 2.13590426e-04 2.08966657e-04 2.07525165e-04\n",
      " 2.03712465e-04 2.02660463e-04 1.98314784e-04 1.97368152e-04\n",
      " 1.96062840e-04 1.90257236e-04 1.86460400e-04 1.74462353e-04]\n",
      "0.9903947794460215\n"
     ]
    },
    {
     "data": {
      "image/png": "[encoded data removed]",
      "text/plain": [
       "<Figure size 432x288 with 1 Axes>"
      ]
     },
     "metadata": {
      "needs_background": "light"
     },
     "output_type": "display_data"
    }
   ],
   "source": [
    "n=48                             #existem 48 amostras para proceder à análise\n",
    "pca = PCA(n_components=n)\n",
    "pca.fit(datap)                   # media e desvio\n",
    "x_reduced = pca.transform(datap) # escala\n",
    "\n",
    "print (pca.explained_variance_ratio_) \n",
    "print(sum(pca.explained_variance_ratio_[:12]))                          # 99% da variabilidade\n",
    "\n",
    "index_samples=[]\n",
    "for hora in meta.time.unique():\n",
    "    l=[]\n",
    "    for i in range(0,48):\n",
    "        if meta.time[i]==hora:\n",
    "            l.append(i)\n",
    "    index_samples.append(l)                               #criaçao de lista de index de 0 a 48, agrupados em listas correspondentes as diferentes horas\n",
    "\n",
    "i=0\n",
    "\n",
    "for hora in meta.time.unique():\n",
    "    for i in range(0,len(index_samples)):\n",
    "        if meta.time[i]==hora:\n",
    "            plt.plot(x_reduced[index_samples[i],0],x_reduced[index_samples[i],1], 'o' , label=hora)\n",
    "    i=i+1\n",
    "\n",
    "plt.title(\"PCA\")\n",
    "plt.legend(loc='best', shadow=False)\n",
    "plt.show()\n"
   ]
  }
 ],
 "metadata": {
  "kernelspec": {
   "display_name": "Python 3 (ipykernel)",
   "language": "python",
   "name": "python3"
  },
  "language_info": {
   "codemirror_mode": {
    "name": "ipython",
    "version": 3
   },
   "file_extension": ".py",
   "mimetype": "text/x-python",
   "name": "python",
   "nbconvert_exporter": "python",
   "pygments_lexer": "ipython3",
   "version": "3.9.12"
  },
  "vscode": {
   "interpreter": {
    "hash": "a8a2f7cb0115a75d3c52345e7e5e6afc0f889fdd68645118a4c4ccba629d222c"
   }
  }
 },
 "nbformat": 4,
 "nbformat_minor": 2
}
