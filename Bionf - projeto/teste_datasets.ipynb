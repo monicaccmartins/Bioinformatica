{
 "cells": [
  {
   "cell_type": "code",
   "execution_count": 1,
   "metadata": {},
   "outputs": [],
   "source": [
    "import pandas as pd\n"
   ]
  },
  {
   "cell_type": "code",
   "execution_count": 2,
   "metadata": {},
   "outputs": [
    {
     "name": "stdout",
     "output_type": "stream",
     "text": [
      "(48107, 120)\n",
      "(120, 6)\n"
     ]
    }
   ],
   "source": [
    "data = pd.read_csv('gds5393.csv',sep=',', index_col = 0)\n",
    "meta = pd.read_csv('meta-gds5393.csv',sep=',', index_col = 0)\n",
    "print(data.shape)\n",
    "print(meta.shape)"
   ]
  },
  {
   "cell_type": "code",
   "execution_count": 3,
   "metadata": {},
   "outputs": [
    {
     "name": "stdout",
     "output_type": "stream",
     "text": [
      "(14010, 30)\n",
      "(30, 4)\n"
     ]
    }
   ],
   "source": [
    "data4 = pd.read_csv('gds1686.csv',sep=',', index_col = 0)\n",
    "meta4 = pd.read_csv('meta-gds1686.csv',sep=',', index_col = 0)\n",
    "print(data4.shape)\n",
    "print(meta4.shape)"
   ]
  },
  {
   "cell_type": "code",
   "execution_count": 4,
   "metadata": {},
   "outputs": [
    {
     "name": "stdout",
     "output_type": "stream",
     "text": [
      "(48107, 48)\n",
      "(48, 4)\n"
     ]
    }
   ],
   "source": [
    "data6 = pd.read_csv('gds5473.csv',sep=',', index_col = 0)\n",
    "meta6 = pd.read_csv('meta-gds5473.csv',sep=',', index_col = 0)\n",
    "print(data6.shape)\n",
    "print(meta6.shape)"
   ]
  },
  {
   "cell_type": "code",
   "execution_count": null,
   "metadata": {
    "collapsed": true
   },
   "outputs": [],
   "source": []
  }
 ],
 "metadata": {
  "kernelspec": {
   "display_name": "Python 3 (ipykernel)",
   "language": "python",
   "name": "python3"
  },
  "language_info": {
   "codemirror_mode": {
    "name": "ipython",
    "version": 3
   },
   "file_extension": ".py",
   "mimetype": "text/x-python",
   "name": "python",
   "nbconvert_exporter": "python",
   "pygments_lexer": "ipython3",
   "version": "3.9.7"
  }
 },
 "nbformat": 4,
 "nbformat_minor": 2
}
