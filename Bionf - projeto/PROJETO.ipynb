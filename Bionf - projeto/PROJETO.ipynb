{
 "cells": [
  {
   "cell_type": "code",
   "execution_count": 1,
   "metadata": {},
   "outputs": [],
   "source": [
    "import pandas as pd\n",
    "from sklearn import preprocessing\n",
    "from sklearn.decomposition import PCA\n",
    "import matplotlib.pyplot as plt\n",
    "import numpy as np\n",
    "from sklearn.neighbors import KNeighborsClassifier\n",
    "from sklearn.cluster import KMeans\n",
    "from sklearn.model_selection import cross_val_score\n",
    "from sklearn import tree\n",
    "from sklearn import svm\n"
   ]
  },
  {
   "cell_type": "markdown",
   "metadata": {},
   "source": [
    "**SECÇAO 1**"
   ]
  },
  {
   "cell_type": "code",
   "execution_count": 47,
   "metadata": {},
   "outputs": [],
   "source": [
    "# carregamento de dados e metadados\n",
    "datai = pd.read_csv('gds5473.csv',sep=',', index_col = 0)\n",
    "meta = pd.read_csv('meta-gds5473.csv',sep=',', index_col = 0)"
   ]
  },
  {
   "cell_type": "code",
   "execution_count": 3,
   "metadata": {},
   "outputs": [
    {
     "name": "stdout",
     "output_type": "stream",
     "text": [
      "(48107, 48)\n",
      "(48, 4)\n"
     ]
    }
   ],
   "source": [
    "# verificaçao colunas e linhas de dados e metadados\n",
    "print(datai.values.shape)\n",
    "print(meta.values.shape)"
   ]
  },
  {
   "cell_type": "markdown",
   "metadata": {},
   "source": [
    "_Análise de dados e metadados_\n",
    "\n",
    "Verifica-se que os dados são compostos por 48107 linhas e 48 colunas.\n",
    "Por outro lado, os metadados são compostos por 48 linhas e 4 colunas.\n",
    "\n",
    "Assim, terá de se proceder à criação da matriz de dados transposta."
   ]
  },
  {
   "cell_type": "code",
   "execution_count": 48,
   "metadata": {},
   "outputs": [],
   "source": [
    "data=datai.transpose()"
   ]
  },
  {
   "attachments": {},
   "cell_type": "markdown",
   "metadata": {
    "collapsed": true
   },
   "source": [
    "_Descrição e caracterização do dataset_\n",
    "\n",
    "O objetivo deste estudo era investigar os efeitos do jejum na homeostase e na energia do músculo esquelético. Neste estudo foram colecionadas biopsias do músculo esquelético e analisadas em quatro situações diferentes: 1.5, 4, 10 e 24 horas após a refeição.\n",
    "\n",
    "Assim, pretende-se relacionar a expressão génica com o tempo de jejum.\n",
    "\n",
    "Como se pode verificar, existem até 48107 genes que serão analisados e que, consequentemente, possam ter uma influencia para o estudo. No entanto (e como se verificará mais à frente), pode não se verificar o resgisto de determinados genes (valores nulos).\n",
    "\n",
    "Quanto aos metadados, verifica-se que possuem 4 variaveis: a amostra, o indivíduo, a hora de recolha e a descrição (que contém todas essas informações juntas)."
   ]
  },
  {
   "cell_type": "code",
   "execution_count": 58,
   "metadata": {},
   "outputs": [
    {
     "name": "stdout",
     "output_type": "stream",
     "text": [
      "Valores em falta para cada atributo dos dados:\n",
      "ILMN_1343291    0\n",
      "ILMN_1343295    0\n",
      "ILMN_1651199    0\n",
      "ILMN_1651209    0\n",
      "ILMN_1651210    0\n",
      "               ..\n",
      "ILMN_3311170    0\n",
      "ILMN_3311175    0\n",
      "ILMN_3311180    0\n",
      "ILMN_3311185    0\n",
      "ILMN_3311190    0\n",
      "Length: 47323, dtype: int64\n",
      "\n",
      "Total de valores em falta nos dados:\n",
      "0\n"
     ]
    }
   ],
   "source": [
    "# valores em falta nos dados \n",
    "print(\"Valores em falta para cada atributo dos dados:\")\n",
    "print(data.isnull().sum())\n",
    "print(\"\")\n",
    "print(\"Total de valores em falta nos dados:\")\n",
    "print(data.isnull().sum().sum())"
   ]
  },
  {
   "cell_type": "code",
   "execution_count": 59,
   "metadata": {},
   "outputs": [
    {
     "name": "stdout",
     "output_type": "stream",
     "text": [
      "Valores em falta para cada atributo dos metadados:\n",
      "sample         0\n",
      "individual     0\n",
      "time           0\n",
      "description    0\n",
      "dtype: int64\n",
      "\n",
      "Total de valores em falta nos metadados:\n",
      "0\n"
     ]
    }
   ],
   "source": [
    "# valores em falta nos metadados \n",
    "print(\"Valores em falta para cada atributo dos metadados:\")\n",
    "print(meta.isnull().sum())\n",
    "print(\"\")\n",
    "print(\"Total de valores em falta nos metadados:\")\n",
    "print(meta.isnull().sum().sum())"
   ]
  },
  {
   "cell_type": "code",
   "execution_count": 60,
   "metadata": {},
   "outputs": [
    {
     "name": "stdout",
     "output_type": "stream",
     "text": [
      "Tipos de atributos (dados):\n",
      "ILMN_1343291    float64\n",
      "ILMN_1343295    float64\n",
      "ILMN_1651199    float64\n",
      "ILMN_1651209    float64\n",
      "ILMN_1651210    float64\n",
      "                 ...   \n",
      "ILMN_3311170    float64\n",
      "ILMN_3311175    float64\n",
      "ILMN_3311180    float64\n",
      "ILMN_3311185    float64\n",
      "ILMN_3311190    float64\n",
      "Length: 47323, dtype: object\n"
     ]
    }
   ],
   "source": [
    "# verificaçao do tipo de atributos nos dados\n",
    "print(\"Tipos de atributos (dados):\")\n",
    "print(data.dtypes)"
   ]
  },
  {
   "cell_type": "code",
   "execution_count": 61,
   "metadata": {},
   "outputs": [
    {
     "name": "stdout",
     "output_type": "stream",
     "text": [
      "Tipos de atributos (metadados):\n",
      "sample         object\n",
      "individual     object\n",
      "time           object\n",
      "description    object\n",
      "dtype: object\n"
     ]
    }
   ],
   "source": [
    "# verificaçao do tipo de atributos nos metadados\n",
    "print(\"Tipos de atributos (metadados):\")\n",
    "print(meta.dtypes)"
   ]
  },
  {
   "attachments": {},
   "cell_type": "markdown",
   "metadata": {},
   "source": [
    "_Características dos dados e metadados_\n",
    "\n",
    "Dados:\n",
    "Os atributos dos dados são os diferentes tipos de gene (como por exemplo: ILMN_1343048, ILMN_1343049). Há 48107 atributos e são do tipo *float64*. Existem 37632 valores em falta nos dados, que correspondem (como referido anteriormente), aos valores de expressão génica não recolhidos.\n",
    "\n",
    "Metadados: \n",
    "Os atributos dos metadados são a amostra, o índividuo, o tempo após a refeição e a descrição. Estes atributos são do tipo *object*."
   ]
  },
  {
   "attachments": {},
   "cell_type": "markdown",
   "metadata": {},
   "source": [
    "_Passos do pré-processamento_\n",
    "\n",
    "Primeiro, eliminam-se os valores nulos com a função dropna(). Seguidamente, procede-se à normalização dos dados com o algoritmo preprocessing.scale().\n",
    "\n",
    "Note-se que, após o pré-processamento dos dados, restam 47323 genes para análise."
   ]
  },
  {
   "cell_type": "code",
   "execution_count": 49,
   "metadata": {},
   "outputs": [
    {
     "name": "stdout",
     "output_type": "stream",
     "text": [
      "(48, 47323)\n"
     ]
    }
   ],
   "source": [
    "#pre-processamento dos dados\n",
    "data.dropna(axis=\"columns\", inplace=True)             #removem-se os valores nulos, dropna() remove as colunas que contêm valores nulos\n",
    "datai.dropna(axis=0,inplace=True )\n",
    "data_scale = preprocessing.scale(data)\n",
    "print(data_scale.shape)\n"
   ]
  },
  {
   "attachments": {},
   "cell_type": "markdown",
   "metadata": {},
   "source": [
    "_Escolha de variáveis de meta-dados_\n",
    "\n",
    "Uma vez que os meta-dados possuem quatro variáveis (\"sample\", \"individual\", \"time\", \"description\"), apenas será utilizada uma: \"time\". \n",
    "\n",
    "As variáveis \"sample\", \"individual\" e \"description\" não foram consideradas uma vez que não possuem informação relevante para a análise dos dados (como cluster, aprendizagem máquina, etc)."
   ]
  },
  {
   "attachments": {},
   "cell_type": "markdown",
   "metadata": {},
   "source": [
    "_Gráficos exploratórios_"
   ]
  },
  {
   "cell_type": "code",
   "execution_count": 63,
   "metadata": {},
   "outputs": [
    {
     "data": {
      "text/html": [
       "<div>\n",
       "<style scoped>\n",
       "    .dataframe tbody tr th:only-of-type {\n",
       "        vertical-align: middle;\n",
       "    }\n",
       "\n",
       "    .dataframe tbody tr th {\n",
       "        vertical-align: top;\n",
       "    }\n",
       "\n",
       "    .dataframe thead th {\n",
       "        text-align: right;\n",
       "    }\n",
       "</style>\n",
       "<table border=\"1\" class=\"dataframe\">\n",
       "  <thead>\n",
       "    <tr style=\"text-align: right;\">\n",
       "      <th></th>\n",
       "      <th>ILMN_1343291</th>\n",
       "      <th>ILMN_1343295</th>\n",
       "      <th>ILMN_1651199</th>\n",
       "      <th>ILMN_1651209</th>\n",
       "      <th>ILMN_1651210</th>\n",
       "      <th>ILMN_1651221</th>\n",
       "      <th>ILMN_1651228</th>\n",
       "      <th>ILMN_1651229</th>\n",
       "      <th>ILMN_1651230</th>\n",
       "      <th>ILMN_1651232</th>\n",
       "      <th>...</th>\n",
       "      <th>ILMN_3311145</th>\n",
       "      <th>ILMN_3311150</th>\n",
       "      <th>ILMN_3311155</th>\n",
       "      <th>ILMN_3311160</th>\n",
       "      <th>ILMN_3311165</th>\n",
       "      <th>ILMN_3311170</th>\n",
       "      <th>ILMN_3311175</th>\n",
       "      <th>ILMN_3311180</th>\n",
       "      <th>ILMN_3311185</th>\n",
       "      <th>ILMN_3311190</th>\n",
       "    </tr>\n",
       "  </thead>\n",
       "  <tbody>\n",
       "    <tr>\n",
       "      <th>count</th>\n",
       "      <td>48.000000</td>\n",
       "      <td>48.000000</td>\n",
       "      <td>48.000000</td>\n",
       "      <td>48.000000</td>\n",
       "      <td>48.000000</td>\n",
       "      <td>48.000000</td>\n",
       "      <td>48.000000</td>\n",
       "      <td>48.000000</td>\n",
       "      <td>48.000000</td>\n",
       "      <td>48.000000</td>\n",
       "      <td>...</td>\n",
       "      <td>48.000000</td>\n",
       "      <td>48.000000</td>\n",
       "      <td>48.000000</td>\n",
       "      <td>48.000000</td>\n",
       "      <td>48.000000</td>\n",
       "      <td>48.000000</td>\n",
       "      <td>48.000000</td>\n",
       "      <td>48.000000</td>\n",
       "      <td>48.000000</td>\n",
       "      <td>48.000000</td>\n",
       "    </tr>\n",
       "    <tr>\n",
       "      <th>mean</th>\n",
       "      <td>13.047917</td>\n",
       "      <td>14.441667</td>\n",
       "      <td>7.206250</td>\n",
       "      <td>7.314583</td>\n",
       "      <td>7.302083</td>\n",
       "      <td>7.397917</td>\n",
       "      <td>11.406250</td>\n",
       "      <td>9.845833</td>\n",
       "      <td>7.277083</td>\n",
       "      <td>7.354167</td>\n",
       "      <td>...</td>\n",
       "      <td>7.247917</td>\n",
       "      <td>7.322917</td>\n",
       "      <td>7.293750</td>\n",
       "      <td>7.237500</td>\n",
       "      <td>7.460417</td>\n",
       "      <td>7.241667</td>\n",
       "      <td>7.225000</td>\n",
       "      <td>7.360417</td>\n",
       "      <td>7.220833</td>\n",
       "      <td>7.287500</td>\n",
       "    </tr>\n",
       "    <tr>\n",
       "      <th>std</th>\n",
       "      <td>0.245807</td>\n",
       "      <td>0.189998</td>\n",
       "      <td>0.107992</td>\n",
       "      <td>0.092229</td>\n",
       "      <td>0.099978</td>\n",
       "      <td>0.108156</td>\n",
       "      <td>0.362266</td>\n",
       "      <td>0.224042</td>\n",
       "      <td>0.118931</td>\n",
       "      <td>0.109074</td>\n",
       "      <td>...</td>\n",
       "      <td>0.107168</td>\n",
       "      <td>0.127562</td>\n",
       "      <td>0.113749</td>\n",
       "      <td>0.108422</td>\n",
       "      <td>0.128394</td>\n",
       "      <td>0.104847</td>\n",
       "      <td>0.106191</td>\n",
       "      <td>0.116216</td>\n",
       "      <td>0.100970</td>\n",
       "      <td>0.098121</td>\n",
       "    </tr>\n",
       "    <tr>\n",
       "      <th>min</th>\n",
       "      <td>12.300000</td>\n",
       "      <td>14.000000</td>\n",
       "      <td>7.000000</td>\n",
       "      <td>7.100000</td>\n",
       "      <td>7.100000</td>\n",
       "      <td>7.200000</td>\n",
       "      <td>10.700000</td>\n",
       "      <td>9.500000</td>\n",
       "      <td>7.000000</td>\n",
       "      <td>7.100000</td>\n",
       "      <td>...</td>\n",
       "      <td>7.000000</td>\n",
       "      <td>7.000000</td>\n",
       "      <td>7.100000</td>\n",
       "      <td>6.900000</td>\n",
       "      <td>7.200000</td>\n",
       "      <td>7.000000</td>\n",
       "      <td>7.000000</td>\n",
       "      <td>7.200000</td>\n",
       "      <td>7.000000</td>\n",
       "      <td>7.100000</td>\n",
       "    </tr>\n",
       "    <tr>\n",
       "      <th>25%</th>\n",
       "      <td>12.900000</td>\n",
       "      <td>14.300000</td>\n",
       "      <td>7.200000</td>\n",
       "      <td>7.300000</td>\n",
       "      <td>7.200000</td>\n",
       "      <td>7.300000</td>\n",
       "      <td>11.100000</td>\n",
       "      <td>9.600000</td>\n",
       "      <td>7.200000</td>\n",
       "      <td>7.300000</td>\n",
       "      <td>...</td>\n",
       "      <td>7.200000</td>\n",
       "      <td>7.200000</td>\n",
       "      <td>7.200000</td>\n",
       "      <td>7.200000</td>\n",
       "      <td>7.400000</td>\n",
       "      <td>7.200000</td>\n",
       "      <td>7.200000</td>\n",
       "      <td>7.300000</td>\n",
       "      <td>7.200000</td>\n",
       "      <td>7.200000</td>\n",
       "    </tr>\n",
       "    <tr>\n",
       "      <th>50%</th>\n",
       "      <td>13.100000</td>\n",
       "      <td>14.400000</td>\n",
       "      <td>7.200000</td>\n",
       "      <td>7.300000</td>\n",
       "      <td>7.300000</td>\n",
       "      <td>7.400000</td>\n",
       "      <td>11.400000</td>\n",
       "      <td>9.900000</td>\n",
       "      <td>7.300000</td>\n",
       "      <td>7.400000</td>\n",
       "      <td>...</td>\n",
       "      <td>7.250000</td>\n",
       "      <td>7.300000</td>\n",
       "      <td>7.300000</td>\n",
       "      <td>7.200000</td>\n",
       "      <td>7.500000</td>\n",
       "      <td>7.200000</td>\n",
       "      <td>7.200000</td>\n",
       "      <td>7.300000</td>\n",
       "      <td>7.200000</td>\n",
       "      <td>7.300000</td>\n",
       "    </tr>\n",
       "    <tr>\n",
       "      <th>75%</th>\n",
       "      <td>13.200000</td>\n",
       "      <td>14.600000</td>\n",
       "      <td>7.200000</td>\n",
       "      <td>7.400000</td>\n",
       "      <td>7.300000</td>\n",
       "      <td>7.500000</td>\n",
       "      <td>11.625000</td>\n",
       "      <td>10.000000</td>\n",
       "      <td>7.325000</td>\n",
       "      <td>7.400000</td>\n",
       "      <td>...</td>\n",
       "      <td>7.300000</td>\n",
       "      <td>7.400000</td>\n",
       "      <td>7.400000</td>\n",
       "      <td>7.300000</td>\n",
       "      <td>7.500000</td>\n",
       "      <td>7.300000</td>\n",
       "      <td>7.300000</td>\n",
       "      <td>7.500000</td>\n",
       "      <td>7.300000</td>\n",
       "      <td>7.400000</td>\n",
       "    </tr>\n",
       "    <tr>\n",
       "      <th>max</th>\n",
       "      <td>13.500000</td>\n",
       "      <td>15.000000</td>\n",
       "      <td>7.600000</td>\n",
       "      <td>7.600000</td>\n",
       "      <td>7.600000</td>\n",
       "      <td>7.700000</td>\n",
       "      <td>12.100000</td>\n",
       "      <td>10.500000</td>\n",
       "      <td>7.500000</td>\n",
       "      <td>7.600000</td>\n",
       "      <td>...</td>\n",
       "      <td>7.500000</td>\n",
       "      <td>7.600000</td>\n",
       "      <td>7.500000</td>\n",
       "      <td>7.500000</td>\n",
       "      <td>7.800000</td>\n",
       "      <td>7.500000</td>\n",
       "      <td>7.500000</td>\n",
       "      <td>7.600000</td>\n",
       "      <td>7.500000</td>\n",
       "      <td>7.500000</td>\n",
       "    </tr>\n",
       "  </tbody>\n",
       "</table>\n",
       "<p>8 rows × 47323 columns</p>\n",
       "</div>"
      ],
      "text/plain": [
       "       ILMN_1343291  ILMN_1343295  ILMN_1651199  ILMN_1651209  ILMN_1651210  \\\n",
       "count     48.000000     48.000000     48.000000     48.000000     48.000000   \n",
       "mean      13.047917     14.441667      7.206250      7.314583      7.302083   \n",
       "std        0.245807      0.189998      0.107992      0.092229      0.099978   \n",
       "min       12.300000     14.000000      7.000000      7.100000      7.100000   \n",
       "25%       12.900000     14.300000      7.200000      7.300000      7.200000   \n",
       "50%       13.100000     14.400000      7.200000      7.300000      7.300000   \n",
       "75%       13.200000     14.600000      7.200000      7.400000      7.300000   \n",
       "max       13.500000     15.000000      7.600000      7.600000      7.600000   \n",
       "\n",
       "       ILMN_1651221  ILMN_1651228  ILMN_1651229  ILMN_1651230  ILMN_1651232  \\\n",
       "count     48.000000     48.000000     48.000000     48.000000     48.000000   \n",
       "mean       7.397917     11.406250      9.845833      7.277083      7.354167   \n",
       "std        0.108156      0.362266      0.224042      0.118931      0.109074   \n",
       "min        7.200000     10.700000      9.500000      7.000000      7.100000   \n",
       "25%        7.300000     11.100000      9.600000      7.200000      7.300000   \n",
       "50%        7.400000     11.400000      9.900000      7.300000      7.400000   \n",
       "75%        7.500000     11.625000     10.000000      7.325000      7.400000   \n",
       "max        7.700000     12.100000     10.500000      7.500000      7.600000   \n",
       "\n",
       "       ...  ILMN_3311145  ILMN_3311150  ILMN_3311155  ILMN_3311160  \\\n",
       "count  ...     48.000000     48.000000     48.000000     48.000000   \n",
       "mean   ...      7.247917      7.322917      7.293750      7.237500   \n",
       "std    ...      0.107168      0.127562      0.113749      0.108422   \n",
       "min    ...      7.000000      7.000000      7.100000      6.900000   \n",
       "25%    ...      7.200000      7.200000      7.200000      7.200000   \n",
       "50%    ...      7.250000      7.300000      7.300000      7.200000   \n",
       "75%    ...      7.300000      7.400000      7.400000      7.300000   \n",
       "max    ...      7.500000      7.600000      7.500000      7.500000   \n",
       "\n",
       "       ILMN_3311165  ILMN_3311170  ILMN_3311175  ILMN_3311180  ILMN_3311185  \\\n",
       "count     48.000000     48.000000     48.000000     48.000000     48.000000   \n",
       "mean       7.460417      7.241667      7.225000      7.360417      7.220833   \n",
       "std        0.128394      0.104847      0.106191      0.116216      0.100970   \n",
       "min        7.200000      7.000000      7.000000      7.200000      7.000000   \n",
       "25%        7.400000      7.200000      7.200000      7.300000      7.200000   \n",
       "50%        7.500000      7.200000      7.200000      7.300000      7.200000   \n",
       "75%        7.500000      7.300000      7.300000      7.500000      7.300000   \n",
       "max        7.800000      7.500000      7.500000      7.600000      7.500000   \n",
       "\n",
       "       ILMN_3311190  \n",
       "count     48.000000  \n",
       "mean       7.287500  \n",
       "std        0.098121  \n",
       "min        7.100000  \n",
       "25%        7.200000  \n",
       "50%        7.300000  \n",
       "75%        7.400000  \n",
       "max        7.500000  \n",
       "\n",
       "[8 rows x 47323 columns]"
      ]
     },
     "execution_count": 63,
     "metadata": {},
     "output_type": "execute_result"
    }
   ],
   "source": [
    "descricao=data.describe()\n",
    "descricao"
   ]
  },
  {
   "cell_type": "markdown",
   "metadata": {},
   "source": [
    "**SECÇAO 2**"
   ]
  },
  {
   "attachments": {},
   "cell_type": "markdown",
   "metadata": {},
   "source": [
    "PCA realizado para todos os dados:"
   ]
  },
  {
   "cell_type": "code",
   "execution_count": 6,
   "metadata": {},
   "outputs": [
    {
     "name": "stdout",
     "output_type": "stream",
     "text": [
      "[6.00652010e-02 5.69230496e-02 3.82744447e-02 3.37939965e-02\n",
      " 2.96700818e-02 2.91411319e-02 2.55861292e-02 2.49198978e-02\n",
      " 2.34602566e-02 2.33634716e-02 2.28557326e-02 2.24160873e-02\n",
      " 2.13367322e-02 2.12811765e-02 2.03312678e-02 2.02027770e-02\n",
      " 2.00700632e-02 1.96958449e-02 1.92742287e-02 1.87673361e-02\n",
      " 1.85293743e-02 1.83705203e-02 1.81618565e-02 1.80245655e-02\n",
      " 1.78917138e-02 1.77861353e-02 1.76320580e-02 1.74164056e-02\n",
      " 1.72243474e-02 1.71625092e-02 1.70850126e-02 1.68293419e-02\n",
      " 1.67969827e-02 1.66771443e-02 1.64783409e-02 1.62990324e-02\n",
      " 1.61840362e-02 1.60169198e-02 1.58985659e-02 1.58762825e-02\n",
      " 1.57440996e-02 1.55792569e-02 1.54429585e-02 1.52827806e-02\n",
      " 1.49580782e-02 1.48114916e-02 1.44112826e-02 3.93488724e-33]\n",
      "0.9095141516999558\n"
     ]
    },
    {
     "data": {
      "image/png": "[encoded data removed]",
      "text/plain": [
       "<Figure size 1440x432 with 1 Axes>"
      ]
     },
     "metadata": {
      "needs_background": "light"
     },
     "output_type": "display_data"
    }
   ],
   "source": [
    "n=48                                                                # existem 48 amostras para proceder à análise\n",
    "pca = PCA(n_components=n) \n",
    "x_reduced = pca.fit(data_scale).transform(data_scale)                      # escala\n",
    "print (pca.explained_variance_ratio_) \n",
    "print(pca.explained_variance_ratio_[:41].sum())                          # 90% da variabilidade\n",
    "\n",
    "per_var=np.round(pca.explained_variance_ratio_*100, decimals=1)\n",
    "labels=[\"PC\"+str(x) for x in range(1,len(per_var)+1)]                  \n",
    "plt.figure(figsize=(20, 6))  # width:20, height:3\n",
    "\n",
    "plt.bar([x*2 for x in range(1,len(per_var)+1)], height=per_var, align=\"center\", width=1)\n",
    "plt.ylabel(\"Percentagem da variação explicada\")\n",
    "plt.xticks([x*2 for x in range(1,len(per_var)+1)], labels, rotation=45)\n",
    "\n",
    "    \n",
    "plt.show()\n"
   ]
  },
  {
   "attachments": {},
   "cell_type": "markdown",
   "metadata": {},
   "source": [
    "Score plot realizado para todos os dados:"
   ]
  },
  {
   "cell_type": "code",
   "execution_count": 7,
   "metadata": {},
   "outputs": [
    {
     "data": {
      "image/png": "[encoded data removed]",
      "text/plain": [
       "<Figure size 432x288 with 1 Axes>"
      ]
     },
     "metadata": {
      "needs_background": "light"
     },
     "output_type": "display_data"
    }
   ],
   "source": [
    "index_samples=[]\n",
    "for hora in meta.time.unique():\n",
    "    l=[]\n",
    "    for i in range(0,48):\n",
    "        if meta.time[i]==hora:\n",
    "            l.append(i)\n",
    "    index_samples.append(l)                               #criaçao de lista de index de 0 a 48, agrupados em listas correspondentes as diferentes horas\n",
    "\n",
    "i=0\n",
    "\n",
    "for hora in meta.time.unique():\n",
    "    for i in range(0,len(index_samples)):\n",
    "        if meta.time[i]==hora:\n",
    "            plt.plot(x_reduced[index_samples[i],0],x_reduced[index_samples[i],1], 'o' , label=hora)\n",
    "    i=i+1\n",
    "\n",
    "plt.title(\"PCA\")\n",
    "plt.legend(loc='best', shadow=False)\n",
    "plt.show()"
   ]
  },
  {
   "attachments": {},
   "cell_type": "markdown",
   "metadata": {},
   "source": [
    "Através da realização deste PCA, concluiu-se que cada PC explica uma baixa percentagem da variância dos dados. Assim, não se podem tirar conclusões do score plot. "
   ]
  },
  {
   "attachments": {},
   "cell_type": "markdown",
   "metadata": {},
   "source": [
    "Método de clustering aplicado a todos os dados:"
   ]
  },
  {
   "cell_type": "code",
   "execution_count": 8,
   "metadata": {},
   "outputs": [
    {
     "data": {
      "text/html": [
       "<div>\n",
       "<style scoped>\n",
       "    .dataframe tbody tr th:only-of-type {\n",
       "        vertical-align: middle;\n",
       "    }\n",
       "\n",
       "    .dataframe tbody tr th {\n",
       "        vertical-align: top;\n",
       "    }\n",
       "\n",
       "    .dataframe thead th {\n",
       "        text-align: right;\n",
       "    }\n",
       "</style>\n",
       "<table border=\"1\" class=\"dataframe\">\n",
       "  <thead>\n",
       "    <tr style=\"text-align: right;\">\n",
       "      <th>time</th>\n",
       "      <th>hour 1.5</th>\n",
       "      <th>hour 10</th>\n",
       "      <th>hour 24</th>\n",
       "      <th>hour 4</th>\n",
       "    </tr>\n",
       "    <tr>\n",
       "      <th>clusters</th>\n",
       "      <th></th>\n",
       "      <th></th>\n",
       "      <th></th>\n",
       "      <th></th>\n",
       "    </tr>\n",
       "  </thead>\n",
       "  <tbody>\n",
       "    <tr>\n",
       "      <th>0</th>\n",
       "      <td>4</td>\n",
       "      <td>2</td>\n",
       "      <td>1</td>\n",
       "      <td>1</td>\n",
       "    </tr>\n",
       "    <tr>\n",
       "      <th>1</th>\n",
       "      <td>7</td>\n",
       "      <td>8</td>\n",
       "      <td>4</td>\n",
       "      <td>5</td>\n",
       "    </tr>\n",
       "    <tr>\n",
       "      <th>2</th>\n",
       "      <td>1</td>\n",
       "      <td>1</td>\n",
       "      <td>2</td>\n",
       "      <td>6</td>\n",
       "    </tr>\n",
       "    <tr>\n",
       "      <th>3</th>\n",
       "      <td>0</td>\n",
       "      <td>1</td>\n",
       "      <td>5</td>\n",
       "      <td>0</td>\n",
       "    </tr>\n",
       "  </tbody>\n",
       "</table>\n",
       "</div>"
      ],
      "text/plain": [
       "time      hour 1.5  hour 10  hour 24  hour 4\n",
       "clusters                                    \n",
       "0                4        2        1       1\n",
       "1                7        8        4       5\n",
       "2                1        1        2       6\n",
       "3                0        1        5       0"
      ]
     },
     "execution_count": 8,
     "metadata": {},
     "output_type": "execute_result"
    }
   ],
   "source": [
    "k=4\n",
    "kmeans = KMeans(n_clusters=k)\n",
    "kmeans.fit(data_scale)\n",
    "labels = kmeans.labels_\n",
    "centroids = kmeans.cluster_centers_\n",
    "\n",
    "pd.crosstab(labels, meta['time'], rownames=['clusters'] )"
   ]
  },
  {
   "cell_type": "code",
   "execution_count": 9,
   "metadata": {},
   "outputs": [
    {
     "data": {
      "image/png": "[encoded data removed]",
      "text/plain": [
       "<Figure size 432x288 with 1 Axes>"
      ]
     },
     "metadata": {
      "needs_background": "light"
     },
     "output_type": "display_data"
    }
   ],
   "source": [
    "for i in range(k):\n",
    "    ds = data_scale[np.where(labels==i)]\n",
    "    plt.plot(ds[:,0],ds[:,1],'o')\n",
    "    lines = plt.plot(centroids[i,0],centroids[i,1],'kx')\n",
    "    plt.setp(lines,ms=15.0)\n",
    "    plt.setp(lines,mew=2.0)\n",
    "plt.show()"
   ]
  },
  {
   "cell_type": "code",
   "execution_count": 10,
   "metadata": {},
   "outputs": [
    {
     "data": {
      "image/png": "[encoded data removed]",
      "text/plain": [
       "<Figure size 1800x720 with 1 Axes>"
      ]
     },
     "metadata": {},
     "output_type": "display_data"
    }
   ],
   "source": [
    "from scipy.cluster.hierarchy import dendrogram, linkage\n",
    "\n",
    "Z = linkage(data_scale, metric='cityblock')\n",
    "\n",
    "plt.figure(figsize=(25, 10))\n",
    "dendrogram(\n",
    "    Z,\n",
    "    labels=list(meta['time']),\n",
    "    leaf_rotation=90.,  # rotates the x axis labels\n",
    "    leaf_font_size=12.,  # font size for the x axis labels\n",
    ")\n",
    "plt.title('Hierarchical Clustering Dendrogram')\n",
    "plt.ylabel('distance')\n",
    "# Assignment of colors to labels: 'r' is red, 'g' is green, etc.\n",
    "label_colors = {'hour 1.5': 'r', 'hour 4': 'g', 'hour 10': 'b', 'hour 24':'y'}\n",
    "ax = plt.gca()\n",
    "xlbls = ax.get_xmajorticklabels()\n",
    "for lbl in xlbls:\n",
    "    lbl.set_color(label_colors[lbl.get_text()])\n",
    "plt.show()"
   ]
  },
  {
   "attachments": {},
   "cell_type": "markdown",
   "metadata": {},
   "source": [
    "Após a realização do clustering, os resultados obtidos não permitem tirar conclusões."
   ]
  },
  {
   "attachments": {},
   "cell_type": "markdown",
   "metadata": {},
   "source": [
    "_Análise estatística_"
   ]
  },
  {
   "attachments": {},
   "cell_type": "markdown",
   "metadata": {},
   "source": [
    "Pela análise do artigo \"Regulation of skeletal muscle energy/nutrient-sensing pathways duringmetabolic adaptation to fasting in healthy humans\", percebe-se que as amostras retiradas após 1,5 horas da refeição são consideradas o grupo de controlo, às quais as outras amostras são comparadas. "
   ]
  },
  {
   "attachments": {},
   "cell_type": "markdown",
   "metadata": {},
   "source": [
    "A hipótese nula testada foi:\n",
    "\n",
    "H0 = A expressão génica não difere entre o grupo de controlo (1,5 horas) e a amostra a analisar.\n",
    "\n",
    "O p-value considerado para a rejeição da hipótese nula foi de 0.01."
   ]
  },
  {
   "cell_type": "code",
   "execution_count": 11,
   "metadata": {},
   "outputs": [
    {
     "name": "stdout",
     "output_type": "stream",
     "text": [
      "['hour 1.5' 'hour 4' 'hour 10' 'hour 24']\n"
     ]
    }
   ],
   "source": [
    "grps=pd.unique(meta[\"time\"].values)\n",
    "print(grps)"
   ]
  },
  {
   "cell_type": "code",
   "execution_count": 12,
   "metadata": {},
   "outputs": [],
   "source": [
    "dic={}\n",
    "for x in datai.index:\n",
    "    d_data={grp:data[x][meta.time==grp] for grp in grps}\n",
    "    dic[x]=d_data"
   ]
  },
  {
   "cell_type": "code",
   "execution_count": 13,
   "metadata": {},
   "outputs": [],
   "source": [
    "import scipy.stats as stats\n",
    "import statistics\n",
    "l_4=[]\n",
    "largar_4=[]\n",
    "for gene in datai.index:\n",
    "    fold=statistics.mean(dic[gene][\"hour 4\"])/statistics.mean(dic[gene][\"hour 1.5\"])\n",
    "    fvalue,pvalue=stats.f_oneway(dic[gene][\"hour 1.5\"],dic[gene][\"hour 4\"])\n",
    "    if pvalue>0.01:\n",
    "        largar_4.append(gene)           \n",
    "    else:\n",
    "        if fold<1:\n",
    "            l_4.append((gene,fvalue,pvalue,\"diminuição\"))\n",
    "        else:\n",
    "            l_4.append((gene,fvalue,pvalue,\"aumento\"))\n",
    "\n"
   ]
  },
  {
   "cell_type": "code",
   "execution_count": 41,
   "metadata": {},
   "outputs": [
    {
     "name": "stdout",
     "output_type": "stream",
     "text": [
      "4 horas\n",
      "10 genes com maior diminuição da expressão génica\n",
      "Gene: ILMN_1704629 , F-value: 32.90265486725665 , Sentido da variação: diminuição\n",
      "Gene: ILMN_3241814 , F-value: 32.74418604651179 , Sentido da variação: diminuição\n",
      "Gene: ILMN_1732831 , F-value: 30.461538461538517 , Sentido da variação: diminuição\n",
      "Gene: ILMN_1794470 , F-value: 29.306273062730757 , Sentido da variação: diminuição\n",
      "Gene: ILMN_2224031 , F-value: 28.94736842105255 , Sentido da variação: diminuição\n",
      "Gene: ILMN_1728742 , F-value: 27.197802197802215 , Sentido da variação: diminuição\n",
      "Gene: ILMN_1812489 , F-value: 25.45906656465188 , Sentido da variação: diminuição\n",
      "Gene: ILMN_1810805 , F-value: 25.384615384615383 , Sentido da variação: diminuição\n",
      "Gene: ILMN_2364535 , F-value: 23.9547038327526 , Sentido da variação: diminuição\n",
      "Gene: ILMN_1801307 , F-value: 23.464163822525578 , Sentido da variação: diminuição\n",
      "----------------------------------------------------------------------\n",
      "10 genes com a maior aumento da expressão génica\n",
      "Gene: ILMN_1720048 , F-value: 115.47318421714033 , Sentido da variação: aumento\n",
      "Gene: ILMN_1710514 , F-value: 111.70245950809829 , Sentido da variação: aumento\n",
      "Gene: ILMN_1728197 , F-value: 95.11926605504577 , Sentido da variação: aumento\n",
      "Gene: ILMN_1659206 , F-value: 82.18717683557396 , Sentido da variação: aumento\n",
      "Gene: ILMN_1723522 , F-value: 80.40006084575613 , Sentido da variação: aumento\n",
      "Gene: ILMN_1673566 , F-value: 80.2689804772233 , Sentido da variação: aumento\n",
      "Gene: ILMN_1762899 , F-value: 78.66865305407063 , Sentido da variação: aumento\n",
      "Gene: ILMN_1775708 , F-value: 77.917988296158 , Sentido da variação: aumento\n",
      "Gene: ILMN_2115669 , F-value: 77.26829268292674 , Sentido da variação: aumento\n",
      "Gene: ILMN_2340259 , F-value: 76.69297863061502 , Sentido da variação: aumento\n"
     ]
    }
   ],
   "source": [
    "print(\"4 horas\")\n",
    "print(\"10 genes com maior diminuição da expressão génica\")\n",
    "l_ord_4=sorted(l_4,key = lambda l_gene: (l_gene[3],l_gene[1]),reverse=True)\n",
    "for p in range(10):\n",
    "    print(\"Gene:\",l_ord_4[p][0],\", F-value:\",l_ord_4[p][1],\", Sentido da variação:\",l_ord_4[p][3])\n",
    "print(\"----------------------------------------------------------------------\")\n",
    "print(\"10 genes com a maior aumento da expressão génica\")\n",
    "n=0 \n",
    "ele=0 \n",
    "while n < 10 and ele<=len(l_4):\n",
    "    if l_ord_4[ele][3]==\"aumento\":\n",
    "        print(\"Gene:\",l_ord_4[ele][0],\", F-value:\",l_ord_4[ele][1],\", Sentido da variação:\",l_ord_4[ele][3])\n",
    "        n+=1\n",
    "    ele+=1\n",
    "    "
   ]
  },
  {
   "cell_type": "code",
   "execution_count": 15,
   "metadata": {},
   "outputs": [],
   "source": [
    "import scipy.stats as stats\n",
    "import statistics\n",
    "l_10=[]\n",
    "largar_10=[]\n",
    "for gene in datai.index:\n",
    "    fold=statistics.mean(dic[gene][\"hour 10\"])/statistics.mean(dic[gene][\"hour 1.5\"])\n",
    "    fvalue,pvalue=stats.f_oneway(dic[gene][\"hour 1.5\"],dic[gene][\"hour 10\"])\n",
    "    if pvalue<0.01:\n",
    "        if fold<1:\n",
    "            l_10.append((gene,fvalue,pvalue,\"diminuição\"))\n",
    "        else:\n",
    "            l_10.append((gene,fvalue,pvalue,\"aumento\"))\n",
    "\n"
   ]
  },
  {
   "cell_type": "code",
   "execution_count": 42,
   "metadata": {},
   "outputs": [
    {
     "name": "stdout",
     "output_type": "stream",
     "text": [
      "10 horas\n",
      "10 genes com maior diminuição da expressão génica\n",
      "Gene: ILMN_1793543 , F-value: 105.96100731112922 , Sentido da variação: diminuição\n",
      "Gene: ILMN_1715555 , F-value: 85.10420475319927 , Sentido da variação: diminuição\n",
      "Gene: ILMN_1660986 , F-value: 77.66570605187333 , Sentido da variação: diminuição\n",
      "Gene: ILMN_1791728 , F-value: 75.67244955685459 , Sentido da variação: diminuição\n",
      "Gene: ILMN_2283325 , F-value: 59.48603351955321 , Sentido da variação: diminuição\n",
      "Gene: ILMN_1683133 , F-value: 45.36203645505973 , Sentido da variação: diminuição\n",
      "Gene: ILMN_1801934 , F-value: 41.1366834170854 , Sentido da variação: diminuição\n",
      "Gene: ILMN_1725455 , F-value: 35.93333333333325 , Sentido da variação: diminuição\n",
      "Gene: ILMN_1726809 , F-value: 33.167194426852504 , Sentido da variação: diminuição\n",
      "Gene: ILMN_1705627 , F-value: 30.898089171974497 , Sentido da variação: diminuição\n",
      "----------------------------------------------------------------------\n",
      "10 genes com a maior aumento da expressão génica\n",
      "Gene: ILMN_1697448 , F-value: 50.37567084078708 , Sentido da variação: aumento\n",
      "Gene: ILMN_1707727 , F-value: 45.173770491803275 , Sentido da variação: aumento\n",
      "Gene: ILMN_1749878 , F-value: 43.46341463414643 , Sentido da variação: aumento\n",
      "Gene: ILMN_2077680 , F-value: 43.120000000000054 , Sentido da variação: aumento\n",
      "Gene: ILMN_1764396 , F-value: 43.074569789674996 , Sentido da variação: aumento\n",
      "Gene: ILMN_1738047 , F-value: 41.592125984252 , Sentido da variação: aumento\n",
      "Gene: ILMN_1684982 , F-value: 35.56561761413111 , Sentido da variação: aumento\n",
      "Gene: ILMN_3178406 , F-value: 35.16012084592144 , Sentido da variação: aumento\n",
      "Gene: ILMN_1900998 , F-value: 32.18285714285708 , Sentido da variação: aumento\n",
      "Gene: ILMN_1669465 , F-value: 27.500000000000096 , Sentido da variação: aumento\n"
     ]
    }
   ],
   "source": [
    "print(\"10 horas\")\n",
    "print(\"10 genes com maior diminuição da expressão génica\")\n",
    "l_ord_10=sorted(l_10,key = lambda l_gene: (l_gene[3],l_gene[1]),reverse=True)\n",
    "for p in range(10):\n",
    "    print(\"Gene:\",l_ord_10[p][0],\", F-value:\",l_ord_10[p][1],\", Sentido da variação:\",l_ord_10[p][3])\n",
    "print(\"----------------------------------------------------------------------\")\n",
    "print(\"10 genes com a maior aumento da expressão génica\")\n",
    "n=0 \n",
    "ele=0 \n",
    "while n < 10 and ele<=len(l_10):\n",
    "    if l_ord_10[ele][3]==\"aumento\":\n",
    "        print(\"Gene:\",l_ord_10[ele][0],\", F-value:\",l_ord_10[ele][1],\", Sentido da variação:\",l_ord_10[ele][3])\n",
    "        n+=1\n",
    "    ele+=1\n",
    "    "
   ]
  },
  {
   "cell_type": "code",
   "execution_count": 17,
   "metadata": {},
   "outputs": [],
   "source": [
    "l_24=[]\n",
    "largar_24=[]\n",
    "for gene in datai.index:\n",
    "    fold=statistics.mean(dic[gene][\"hour 24\"])/statistics.mean(dic[gene][\"hour 1.5\"])\n",
    "    fvalue,pvalue=stats.f_oneway(dic[gene][\"hour 1.5\"],dic[gene][\"hour 24\"])\n",
    "    if pvalue>0.01:\n",
    "        largar_24.append(gene)           \n",
    "    else:\n",
    "        if fold<1:\n",
    "            l_24.append((gene,fvalue,pvalue,\"diminuição\"))\n",
    "        else:\n",
    "            l_24.append((gene,fvalue,pvalue,\"aumento\"))"
   ]
  },
  {
   "cell_type": "code",
   "execution_count": 43,
   "metadata": {},
   "outputs": [
    {
     "name": "stdout",
     "output_type": "stream",
     "text": [
      "24 horas\n",
      "10 genes com maior diminuição da expressão génica\n",
      "Gene: ILMN_1791728 , F-value: 85.09155485398585 , Sentido da variação: diminuição\n",
      "Gene: ILMN_1782069 , F-value: 48.434554973822145 , Sentido da variação: diminuição\n",
      "Gene: ILMN_1794132 , F-value: 46.07329842931929 , Sentido da variação: diminuição\n",
      "Gene: ILMN_1812777 , F-value: 42.88149231894669 , Sentido da variação: diminuição\n",
      "Gene: ILMN_3235168 , F-value: 40.81431005110741 , Sentido da variação: diminuição\n",
      "Gene: ILMN_1704629 , F-value: 40.606779661016944 , Sentido da variação: diminuição\n",
      "Gene: ILMN_1715718 , F-value: 39.007380073800704 , Sentido da variação: diminuição\n",
      "Gene: ILMN_1780756 , F-value: 36.61643835616422 , Sentido da variação: diminuição\n",
      "Gene: ILMN_1676984 , F-value: 35.972972972973025 , Sentido da variação: diminuição\n",
      "Gene: ILMN_1685112 , F-value: 35.167776298269 , Sentido da variação: diminuição\n",
      "----------------------------------------------------------------------\n",
      "10 genes com a maior aumento da expressão génica\n",
      "Gene: ILMN_1775743 , F-value: 48.90230515916581 , Sentido da variação: aumento\n",
      "Gene: ILMN_1695354 , F-value: 41.79999999999993 , Sentido da variação: aumento\n",
      "Gene: ILMN_1800512 , F-value: 39.403101692908734 , Sentido da variação: aumento\n",
      "Gene: ILMN_1655612 , F-value: 38.320868516284705 , Sentido da variação: aumento\n",
      "Gene: ILMN_1700896 , F-value: 37.09770992366418 , Sentido da variação: aumento\n",
      "Gene: ILMN_2186061 , F-value: 36.86088449978531 , Sentido da variação: aumento\n",
      "Gene: ILMN_1660847 , F-value: 33.898456426939866 , Sentido da variação: aumento\n",
      "Gene: ILMN_1782050 , F-value: 33.29713506139153 , Sentido da variação: aumento\n",
      "Gene: ILMN_1792681 , F-value: 32.64032697547685 , Sentido da variação: aumento\n",
      "Gene: ILMN_1717485 , F-value: 32.4698795180723 , Sentido da variação: aumento\n"
     ]
    }
   ],
   "source": [
    "print(\"24 horas\")\n",
    "print(\"10 genes com maior diminuição da expressão génica\")\n",
    "l_ord_24=sorted(l_24,key = lambda l_gene: (l_gene[3],l_gene[1]),reverse=True)\n",
    "for p in range(10):\n",
    "    print(\"Gene:\",l_ord_24[p][0],\", F-value:\",l_ord_24[p][1],\", Sentido da variação:\",l_ord_24[p][3])\n",
    "print(\"----------------------------------------------------------------------\")\n",
    "print(\"10 genes com a maior aumento da expressão génica\")\n",
    "n=0 \n",
    "ele=0 \n",
    "while n < 10 and ele<=len(l_24):\n",
    "    if l_ord_24[ele][3]==\"aumento\":\n",
    "        print(\"Gene:\",l_ord_24[ele][0],\", F-value:\",l_ord_24[ele][1],\", Sentido da variação:\",l_ord_24[ele][3])\n",
    "        n+=1\n",
    "    ele+=1\n",
    "    "
   ]
  },
  {
   "attachments": {},
   "cell_type": "markdown",
   "metadata": {},
   "source": [
    "Comparar os genes cuja expressão foi alterada nas diferentes horas e verificar se algum gene varia em ambas as horas no mesmo sentido (aumento/diminuição)."
   ]
  },
  {
   "attachments": {},
   "cell_type": "markdown",
   "metadata": {},
   "source": [
    "Comparação das horas 4 e 10 de jejum."
   ]
  },
  {
   "cell_type": "code",
   "execution_count": 19,
   "metadata": {},
   "outputs": [
    {
     "name": "stdout",
     "output_type": "stream",
     "text": [
      "Genes 4 horas: 1221    Genes 10 horas: 614\n",
      "Comum: 116\n"
     ]
    }
   ],
   "source": [
    "comum_4_10=[]\n",
    "for gene in l_4:\n",
    "    for gene_10 in l_10:\n",
    "        if gene_10[0]==gene[0] and gene_10[-1]==gene[-1]:\n",
    "            comum_4_10.append(gene)\n",
    "print(\"Genes 4 horas:\",len(l_4),\"   Genes 10 horas:\",len(l_10))\n",
    "print(\"Comum:\",len(comum_4_10))"
   ]
  },
  {
   "attachments": {},
   "cell_type": "markdown",
   "metadata": {},
   "source": [
    "Comparação das horas 4 e 24 de jejum."
   ]
  },
  {
   "cell_type": "code",
   "execution_count": 20,
   "metadata": {},
   "outputs": [
    {
     "name": "stdout",
     "output_type": "stream",
     "text": [
      "Genes 4 horas: 1221    Genes 24 horas: 1849\n",
      "Comum: 280\n"
     ]
    }
   ],
   "source": [
    "comum_4_24=[]\n",
    "for gene in l_4:\n",
    "    for gene_24 in l_24:\n",
    "        if gene_24[0]==gene[0] and gene_24[-1]==gene[-1]:\n",
    "            comum_4_24.append(gene)\n",
    "print(\"Genes 4 horas:\",len(l_4),\"   Genes 24 horas:\",len(l_24))\n",
    "print(\"Comum:\",len(comum_4_24))"
   ]
  },
  {
   "attachments": {},
   "cell_type": "markdown",
   "metadata": {},
   "source": [
    "Comparação das horas 10 e 24 de jejum."
   ]
  },
  {
   "cell_type": "code",
   "execution_count": 22,
   "metadata": {},
   "outputs": [
    {
     "name": "stdout",
     "output_type": "stream",
     "text": [
      "Genes 10 horas: 614    Genes 24 horas: 1849\n",
      "Comum: 189\n"
     ]
    }
   ],
   "source": [
    "comum_10_24=[]\n",
    "for gene in l_10:\n",
    "    for gene_24 in l_24:\n",
    "        if gene_24[0]==gene[0] and gene_24[-1]==gene[-1]:\n",
    "            comum_10_24.append(gene)\n",
    "print(\"Genes 10 horas:\",len(l_10),\"   Genes 24 horas:\",len(l_24))\n",
    "print(\"Comum:\",len(comum_10_24))"
   ]
  },
  {
   "attachments": {},
   "cell_type": "markdown",
   "metadata": {},
   "source": [
    "Verifica-se que o número de genes comuns a duas horas de jejum diferentes é menor do que o total de cada hora. Por exemplo, quando se compara as 10 horas e as 24 horas, verifica-se que dos 1849, que variam nas amostras de 24 horas, apenas 189 são comuns aos genes das 10 horas. \n",
    "\n",
    "Pode-se, portanto, especular que o jejum curto (4 horas) afeta a expressão de diferentes genes que um jejum intermédio (10 horas). O jejum intermédio, por sua vez, afeta diferentes genes que o jejum longo (24 horas). De notar que o jejum curto também é diferente do longo."
   ]
  },
  {
   "attachments": {},
   "cell_type": "markdown",
   "metadata": {},
   "source": [
    "Criação de um novo dataframe apenas com os genes que rejeitam a hipotese nula em pelo menos uma das horas. Ou seja, remove-se os genes cuja expressão não varia em nenhuma das horas, em relação ao controlo."
   ]
  },
  {
   "cell_type": "code",
   "execution_count": 50,
   "metadata": {},
   "outputs": [],
   "source": [
    "data_novo=pd.DataFrame(data)\n",
    "todos=list(data.columns)\n",
    "l_imp=l_4+l_10+l_24\n",
    "for g in l_imp:\n",
    "    if g[0] in todos:\n",
    "        todos.remove(g[0])\n",
    "data_novo.drop(todos,axis=\"columns\", inplace=True)\n"
   ]
  },
  {
   "cell_type": "code",
   "execution_count": 57,
   "metadata": {},
   "outputs": [
    {
     "name": "stdout",
     "output_type": "stream",
     "text": [
      "            ILMN_1651259  ILMN_1651262  ILMN_1651285  ILMN_1651328  \\\n",
      "GSM1348553           9.1          10.5           8.0           7.7   \n",
      "GSM1348554           8.0          10.4           8.4           7.8   \n",
      "GSM1348555           8.8          11.0           8.1           8.1   \n",
      "GSM1348556           8.7          10.1           8.0           7.8   \n",
      "GSM1348557           8.8          10.4           7.9           7.6   \n",
      "GSM1348558           8.8          10.7           8.4           7.9   \n",
      "GSM1348559           8.3          11.5           8.4           8.4   \n",
      "GSM1348560           8.4          10.2           8.2           7.7   \n",
      "GSM1348561           8.9          10.3           8.1           7.7   \n",
      "GSM1348562           8.6          10.4           8.5           8.0   \n",
      "GSM1348563           8.9          10.2           7.9           7.8   \n",
      "GSM1348564           8.2          11.7           8.1           7.8   \n",
      "GSM1348565           9.1          10.0           7.8           7.6   \n",
      "GSM1348566           8.7          10.2           8.4           7.5   \n",
      "GSM1348567           8.9          10.2           8.1           7.5   \n",
      "GSM1348568           8.0          11.6           8.1           7.9   \n",
      "GSM1348569           8.0          10.6           8.0           7.5   \n",
      "GSM1348570           8.0          10.9           8.3           8.3   \n",
      "GSM1348571           8.6          10.4           7.8           7.5   \n",
      "GSM1348572           8.8          11.3           8.1           7.8   \n",
      "GSM1348573           9.0          10.3           8.0           7.8   \n",
      "GSM1348574           8.4          10.7           8.9           8.0   \n",
      "GSM1348575           8.5          10.2           8.2           7.7   \n",
      "GSM1348576           8.1          10.3           8.4           7.9   \n",
      "GSM1348577           8.7          10.3           7.9           7.8   \n",
      "GSM1348578           8.5          10.4           8.3           8.0   \n",
      "GSM1348579           8.7          10.1           8.0           7.7   \n",
      "GSM1348580           8.4          11.3           8.1           7.8   \n",
      "GSM1348581           9.0          10.5           7.8           7.8   \n",
      "GSM1348582           8.9          10.8           8.3           7.6   \n",
      "GSM1348583           8.7          10.5           7.9           7.6   \n",
      "GSM1348584           8.6          10.5           7.7           7.5   \n",
      "GSM1348585           8.9          10.4           7.8           7.6   \n",
      "GSM1348586           8.7          10.5           8.2           7.7   \n",
      "GSM1348587           8.6          10.6           8.1           7.9   \n",
      "GSM1348588           8.4          11.9           8.3           7.6   \n",
      "GSM1348589           8.1          10.2           7.8           7.6   \n",
      "GSM1348590           8.5          10.5           8.2           8.0   \n",
      "GSM1348591           8.1          10.5           7.9           7.6   \n",
      "GSM1348592           8.2          10.2           7.9           7.7   \n",
      "GSM1348593           8.8          10.4           7.9           7.5   \n",
      "GSM1348594           8.3          10.5           8.8           8.2   \n",
      "GSM1348595           8.7          10.1           8.2           7.7   \n",
      "GSM1348596           8.3          11.4           7.9           8.2   \n",
      "GSM1348597           8.5          10.3           7.8           7.5   \n",
      "GSM1348598           8.8          10.7           8.6           8.0   \n",
      "GSM1348599           8.1          11.1           8.1           7.7   \n",
      "GSM1348600           8.4          10.2           7.7           7.8   \n",
      "\n",
      "            ILMN_1651499  ILMN_1651610  ILMN_1651628  ILMN_1651767  \\\n",
      "GSM1348553           7.7           9.3           9.8           7.2   \n",
      "GSM1348554           8.0           9.6           9.7           7.5   \n",
      "GSM1348555           7.7          10.5           9.3           7.3   \n",
      "GSM1348556           8.1           9.3          10.0           7.7   \n",
      "GSM1348557           7.6           9.4           9.5           7.4   \n",
      "GSM1348558           7.9           9.4           9.7           7.2   \n",
      "GSM1348559           7.5          10.5           8.8           7.5   \n",
      "GSM1348560           7.8           9.5           9.7           7.4   \n",
      "GSM1348561           7.8           9.3          10.0           7.2   \n",
      "GSM1348562           8.0          10.0           9.5           7.2   \n",
      "GSM1348563           7.6           9.6           9.4           7.3   \n",
      "GSM1348564           7.5           9.7           8.3           7.5   \n",
      "GSM1348565           7.7           9.1           9.7           7.1   \n",
      "GSM1348566           7.7          10.2           9.5           7.2   \n",
      "GSM1348567           8.0           9.4           9.6           7.3   \n",
      "GSM1348568           7.6           9.4           8.7           7.3   \n",
      "GSM1348569           8.0           9.2           9.6           7.4   \n",
      "GSM1348570           8.2          10.2           9.2           7.1   \n",
      "GSM1348571           7.8           9.3           9.5           7.1   \n",
      "GSM1348572           7.6          10.1           8.9           7.5   \n",
      "GSM1348573           7.3           9.4           9.7           7.1   \n",
      "GSM1348574           7.8          10.2           9.6           7.4   \n",
      "GSM1348575           7.4           9.7           9.7           7.2   \n",
      "GSM1348576           8.0           9.9           9.7           7.2   \n",
      "GSM1348577           7.7           8.9           9.8           7.2   \n",
      "GSM1348578           7.7           9.8           9.6           7.5   \n",
      "GSM1348579           7.9           9.2           9.4           7.3   \n",
      "GSM1348580           7.8          10.4           9.1           7.4   \n",
      "GSM1348581           7.7           9.1           9.7           7.3   \n",
      "GSM1348582           7.9           9.2           9.5           7.3   \n",
      "GSM1348583           7.9           9.1           9.3           7.2   \n",
      "GSM1348584           7.8           9.2           9.8           7.4   \n",
      "GSM1348585           7.7           9.2           9.5           7.4   \n",
      "GSM1348586           7.8           9.3           9.4           7.2   \n",
      "GSM1348587           7.8           9.5           9.3           7.3   \n",
      "GSM1348588           7.8           9.8           8.6           7.6   \n",
      "GSM1348589           7.7           9.9           9.8           7.4   \n",
      "GSM1348590           7.9           9.9           9.5           7.3   \n",
      "GSM1348591           7.9           9.6           9.7           7.3   \n",
      "GSM1348592           7.9           9.7           9.7           7.2   \n",
      "GSM1348593           7.6           9.5           9.7           7.2   \n",
      "GSM1348594           8.2          10.9           9.4           7.1   \n",
      "GSM1348595           7.8           9.4           9.5           7.2   \n",
      "GSM1348596           7.9          11.2           8.9           7.6   \n",
      "GSM1348597           7.9           9.7           9.6           7.2   \n",
      "GSM1348598           8.1          10.1           9.2           7.2   \n",
      "GSM1348599           8.1           9.8           8.8           7.4   \n",
      "GSM1348600           7.9           9.9           9.1           7.3   \n",
      "\n",
      "            ILMN_1651819  ILMN_1651950  ...  ILMN_3310296  ILMN_3310336  \\\n",
      "GSM1348553           9.0           7.4  ...           7.2           7.4   \n",
      "GSM1348554           9.0           7.5  ...           7.3           7.6   \n",
      "GSM1348555           8.9           7.3  ...           7.4           7.4   \n",
      "GSM1348556           8.9           7.6  ...           7.3           7.2   \n",
      "GSM1348557           9.2           7.3  ...           7.1           7.5   \n",
      "GSM1348558           9.2           7.5  ...           7.2           7.5   \n",
      "GSM1348559           9.1           7.3  ...           7.4           7.3   \n",
      "GSM1348560           9.1           7.5  ...           7.2           7.3   \n",
      "GSM1348561           9.0           7.3  ...           7.1           7.4   \n",
      "GSM1348562           8.7           7.5  ...           7.2           7.4   \n",
      "GSM1348563           9.1           7.5  ...           7.1           7.3   \n",
      "GSM1348564           8.6           7.6  ...           7.1           7.4   \n",
      "GSM1348565           9.1           7.3  ...           7.2           7.4   \n",
      "GSM1348566           9.0           7.6  ...           7.2           7.2   \n",
      "GSM1348567           9.0           7.6  ...           7.3           7.2   \n",
      "GSM1348568           8.9           7.3  ...           7.1           7.2   \n",
      "GSM1348569           9.0           7.4  ...           7.1           7.3   \n",
      "GSM1348570           9.1           7.5  ...           7.2           7.2   \n",
      "GSM1348571           9.1           7.4  ...           7.1           7.5   \n",
      "GSM1348572           8.6           7.3  ...           7.3           7.2   \n",
      "GSM1348573           9.1           7.2  ...           7.1           7.4   \n",
      "GSM1348574           9.1           7.4  ...           7.2           7.2   \n",
      "GSM1348575           9.0           7.4  ...           7.1           7.1   \n",
      "GSM1348576           9.1           7.4  ...           7.3           7.2   \n",
      "GSM1348577           9.1           7.2  ...           7.1           7.6   \n",
      "GSM1348578           9.0           7.2  ...           7.3           7.3   \n",
      "GSM1348579           9.2           7.5  ...           7.1           7.4   \n",
      "GSM1348580           9.0           7.5  ...           7.2           7.5   \n",
      "GSM1348581           9.2           7.6  ...           7.2           7.4   \n",
      "GSM1348582           9.3           7.5  ...           7.3           7.4   \n",
      "GSM1348583           9.1           7.3  ...           7.3           7.3   \n",
      "GSM1348584           9.1           7.5  ...           7.3           7.1   \n",
      "GSM1348585           9.3           7.5  ...           7.1           7.4   \n",
      "GSM1348586           9.3           7.6  ...           7.3           7.4   \n",
      "GSM1348587           9.2           7.7  ...           7.1           7.4   \n",
      "GSM1348588           8.9           7.6  ...           7.4           7.3   \n",
      "GSM1348589           9.3           7.3  ...           7.2           7.5   \n",
      "GSM1348590           9.1           7.5  ...           7.4           7.3   \n",
      "GSM1348591           9.0           7.2  ...           7.3           7.3   \n",
      "GSM1348592           9.0           7.5  ...           7.1           7.2   \n",
      "GSM1348593           9.2           7.2  ...           7.2           7.3   \n",
      "GSM1348594           9.2           7.3  ...           7.2           7.3   \n",
      "GSM1348595           9.1           7.3  ...           7.2           7.4   \n",
      "GSM1348596           8.9           7.3  ...           7.1           7.5   \n",
      "GSM1348597           9.3           7.3  ...           7.2           7.3   \n",
      "GSM1348598           9.2           7.6  ...           7.3           7.3   \n",
      "GSM1348599           9.0           7.4  ...           7.3           7.5   \n",
      "GSM1348600           9.3           7.3  ...           7.4           7.2   \n",
      "\n",
      "            ILMN_3310351  ILMN_3310356  ILMN_3310441  ILMN_3310685  \\\n",
      "GSM1348553          11.1           7.2           7.2           7.2   \n",
      "GSM1348554          10.6           7.4           7.0           7.2   \n",
      "GSM1348555          10.5           7.3           7.2           7.3   \n",
      "GSM1348556          10.8           7.0           7.3           7.1   \n",
      "GSM1348557          11.3           7.0           7.3           7.3   \n",
      "GSM1348558          11.0           7.2           7.2           7.1   \n",
      "GSM1348559          10.8           7.2           7.2           7.1   \n",
      "GSM1348560          10.8           7.2           7.1           7.3   \n",
      "GSM1348561          11.1           7.2           7.2           7.2   \n",
      "GSM1348562          11.4           7.2           7.0           7.1   \n",
      "GSM1348563          11.2           7.1           7.2           7.2   \n",
      "GSM1348564          11.1           7.1           7.1           7.0   \n",
      "GSM1348565          11.1           7.2           7.2           7.2   \n",
      "GSM1348566          10.8           7.2           7.2           7.2   \n",
      "GSM1348567          11.0           7.1           7.3           7.2   \n",
      "GSM1348568          10.7           7.2           7.3           7.3   \n",
      "GSM1348569          10.8           7.2           7.5           7.2   \n",
      "GSM1348570          10.6           7.2           7.2           7.2   \n",
      "GSM1348571          10.8           7.1           7.1           7.2   \n",
      "GSM1348572          10.5           7.1           7.2           7.2   \n",
      "GSM1348573          11.0           7.1           7.2           7.2   \n",
      "GSM1348574          10.6           7.2           7.2           7.2   \n",
      "GSM1348575          10.9           7.1           7.3           7.2   \n",
      "GSM1348576          11.1           7.2           7.2           7.1   \n",
      "GSM1348577          11.2           7.1           7.4           7.4   \n",
      "GSM1348578          11.0           7.2           7.4           7.2   \n",
      "GSM1348579          11.0           7.0           7.2           7.0   \n",
      "GSM1348580          10.7           7.2           7.2           7.1   \n",
      "GSM1348581          11.0           7.1           7.3           7.2   \n",
      "GSM1348582          10.9           7.1           7.2           7.3   \n",
      "GSM1348583          11.2           7.3           7.2           7.1   \n",
      "GSM1348584          11.3           7.2           7.1           7.2   \n",
      "GSM1348585          11.4           7.2           7.2           7.2   \n",
      "GSM1348586          11.0           7.2           7.1           7.3   \n",
      "GSM1348587          11.0           7.1           7.1           7.0   \n",
      "GSM1348588          10.8           7.2           7.1           7.1   \n",
      "GSM1348589          11.1           7.0           7.4           7.2   \n",
      "GSM1348590          11.1           7.1           7.2           7.1   \n",
      "GSM1348591          10.9           7.2           7.2           7.2   \n",
      "GSM1348592          10.9           7.4           7.2           7.3   \n",
      "GSM1348593          11.4           7.0           7.2           7.2   \n",
      "GSM1348594          11.2           7.3           7.2           7.1   \n",
      "GSM1348595          11.2           7.2           7.2           7.1   \n",
      "GSM1348596          11.0           7.1           7.1           7.3   \n",
      "GSM1348597          11.0           7.1           7.3           7.3   \n",
      "GSM1348598          10.7           7.4           7.2           7.1   \n",
      "GSM1348599          10.5           7.3           7.3           7.1   \n",
      "GSM1348600          10.6           7.2           7.1           7.1   \n",
      "\n",
      "            ILMN_3310835  ILMN_3310840  ILMN_3310940  ILMN_3311125  \n",
      "GSM1348553           7.1           7.0           7.3           7.2  \n",
      "GSM1348554           7.2           7.2           7.1           7.2  \n",
      "GSM1348555           7.1           7.3           7.0           7.1  \n",
      "GSM1348556           7.0           7.1           7.3           7.2  \n",
      "GSM1348557           7.2           7.2           7.2           7.3  \n",
      "GSM1348558           7.1           7.2           7.3           7.2  \n",
      "GSM1348559           7.1           7.4           7.1           7.4  \n",
      "GSM1348560           7.0           7.2           7.2           7.4  \n",
      "GSM1348561           7.1           7.2           7.1           7.5  \n",
      "GSM1348562           7.1           7.2           7.0           7.1  \n",
      "GSM1348563           7.2           7.0           7.3           7.2  \n",
      "GSM1348564           7.0           7.2           7.1           7.1  \n",
      "GSM1348565           7.3           7.2           7.3           7.3  \n",
      "GSM1348566           7.2           7.3           7.1           7.1  \n",
      "GSM1348567           7.2           7.4           7.2           7.2  \n",
      "GSM1348568           7.0           7.1           7.5           7.4  \n",
      "GSM1348569           7.1           7.2           7.2           7.3  \n",
      "GSM1348570           7.1           7.7           7.1           7.1  \n",
      "GSM1348571           7.0           7.2           7.1           7.2  \n",
      "GSM1348572           7.1           7.3           7.1           7.3  \n",
      "GSM1348573           7.1           7.1           7.1           7.3  \n",
      "GSM1348574           7.0           7.4           7.1           7.1  \n",
      "GSM1348575           7.1           7.2           7.0           7.3  \n",
      "GSM1348576           7.0           7.2           7.1           7.3  \n",
      "GSM1348577           7.1           7.3           7.3           7.2  \n",
      "GSM1348578           7.0           7.5           7.0           7.3  \n",
      "GSM1348579           7.1           7.1           7.0           7.3  \n",
      "GSM1348580           7.1           7.2           7.2           7.3  \n",
      "GSM1348581           7.2           7.0           7.2           7.3  \n",
      "GSM1348582           7.1           7.4           7.1           7.1  \n",
      "GSM1348583           7.1           7.2           7.0           7.3  \n",
      "GSM1348584           7.0           7.0           7.2           7.1  \n",
      "GSM1348585           7.1           6.9           7.1           7.2  \n",
      "GSM1348586           7.1           7.1           7.2           7.2  \n",
      "GSM1348587           7.1           7.2           7.1           7.1  \n",
      "GSM1348588           7.0           7.4           7.4           7.3  \n",
      "GSM1348589           7.1           7.2           7.1           7.2  \n",
      "GSM1348590           7.1           7.4           7.0           7.2  \n",
      "GSM1348591           7.1           7.4           7.1           7.2  \n",
      "GSM1348592           7.0           7.1           7.0           7.1  \n",
      "GSM1348593           7.2           7.2           7.3           7.4  \n",
      "GSM1348594           7.1           7.6           7.1           7.3  \n",
      "GSM1348595           7.0           7.2           7.2           7.2  \n",
      "GSM1348596           7.0           7.5           7.2           7.3  \n",
      "GSM1348597           7.1           7.2           7.3           7.2  \n",
      "GSM1348598           7.0           7.3           7.1           7.1  \n",
      "GSM1348599           7.0           7.3           7.2           7.0  \n",
      "GSM1348600           7.0           7.2           7.1           7.1  \n",
      "\n",
      "[48 rows x 3148 columns]\n"
     ]
    }
   ],
   "source": [
    "print(data_novo)"
   ]
  },
  {
   "cell_type": "code",
   "execution_count": 51,
   "metadata": {},
   "outputs": [],
   "source": [
    "data_novoscale=preprocessing.scale(data_novo)"
   ]
  },
  {
   "attachments": {},
   "cell_type": "markdown",
   "metadata": {},
   "source": [
    "PCA realizado para os novos dados:"
   ]
  },
  {
   "cell_type": "code",
   "execution_count": 52,
   "metadata": {},
   "outputs": [
    {
     "name": "stdout",
     "output_type": "stream",
     "text": [
      "[2.46635417e-01 1.12641782e-01 4.44617914e-02 4.32273513e-02\n",
      " 3.37825819e-02 2.72491993e-02 2.50171335e-02 2.26508684e-02\n",
      " 2.25872470e-02 1.95691265e-02 1.91541345e-02 1.79612896e-02\n",
      " 1.73140679e-02 1.60343832e-02 1.49173282e-02 1.41921397e-02\n",
      " 1.38767062e-02 1.33817613e-02 1.33419095e-02 1.26360464e-02\n",
      " 1.21398650e-02 1.17764923e-02 1.15122346e-02 1.11856258e-02\n",
      " 1.10262162e-02 1.08456105e-02 1.04563834e-02 1.03387721e-02\n",
      " 1.00159754e-02 9.91073551e-03 9.74870366e-03 9.54885555e-03\n",
      " 9.34105422e-03 9.29732026e-03 9.10350392e-03 8.67572305e-03\n",
      " 8.52611273e-03 8.46458195e-03 8.34043381e-03 8.16293784e-03\n",
      " 7.94208259e-03 7.64524540e-03 7.50695767e-03 7.31930038e-03\n",
      " 7.17315659e-03 6.83266850e-03 6.53118719e-03 4.86402595e-32]\n",
      "0.8791377338862568\n"
     ]
    },
    {
     "data": {
      "image/png": "[encoded data removed]",
      "text/plain": [
       "<Figure size 1440x432 with 1 Axes>"
      ]
     },
     "metadata": {
      "needs_background": "light"
     },
     "output_type": "display_data"
    }
   ],
   "source": [
    "n=48                                                                # existem 48 amostras para proceder à análise\n",
    "pca_novo = PCA(n_components=n) \n",
    "x_reduced_novo = pca_novo.fit(data_novoscale).transform(data_novoscale)                                                       # media e desvio                                         # escala\n",
    "print (pca_novo.explained_variance_ratio_) \n",
    "print(pca_novo.explained_variance_ratio_[:32].sum())                          # 90% da variabilidade\n",
    "\n",
    "per_var_novo=np.round(pca_novo.explained_variance_ratio_*100, decimals=1)\n",
    "labels_novo=[\"PC\"+str(x) for x in range(1,len(per_var_novo)+1)]                  \n",
    "plt.figure(figsize=(20, 6))  # width:20, height:3\n",
    "\n",
    "plt.bar([x*2 for x in range(1,len(per_var_novo)+1)], height=per_var_novo, align=\"center\", width=1)\n",
    "plt.ylabel(\"Percentagem da variação explicada\")\n",
    "plt.xticks([x*2 for x in range(1,len(per_var_novo)+1)], labels_novo, rotation=45)\n",
    "\n",
    "    \n",
    "plt.show()"
   ]
  },
  {
   "attachments": {},
   "cell_type": "markdown",
   "metadata": {},
   "source": [
    "Verificou-se que, com os novos dados, os dois primeiros PC's explicam cerca de 40% da variância dos dados (uma percentagem muito maior do que a obtida no PCA com todos os dados)."
   ]
  },
  {
   "cell_type": "code",
   "execution_count": 53,
   "metadata": {},
   "outputs": [
    {
     "data": {
      "image/png": "[encoded data removed]",
      "text/plain": [
       "<Figure size 432x288 with 1 Axes>"
      ]
     },
     "metadata": {
      "needs_background": "light"
     },
     "output_type": "display_data"
    }
   ],
   "source": [
    "i=0\n",
    "\n",
    "for hora in meta.time.unique():\n",
    "    for i in range(0,len(index_samples)):\n",
    "        if meta.time[i]==hora:\n",
    "            plt.plot(x_reduced_novo[index_samples[i],0],x_reduced_novo[index_samples[i],1], 'o' , label=hora)\n",
    "    i=i+1\n",
    "\n",
    "plt.title(\"PCA\")\n",
    "plt.legend(loc='best', shadow=False)\n",
    "plt.show()"
   ]
  },
  {
   "attachments": {},
   "cell_type": "markdown",
   "metadata": {},
   "source": [
    "Apesar de já se conseguir observar uma maior proximidade entre as amostras (consoante a hora da recolha), o score plot ainda permanece inconclusivo. "
   ]
  },
  {
   "cell_type": "code",
   "execution_count": 54,
   "metadata": {},
   "outputs": [
    {
     "data": {
      "image/png": "[encoded data removed]",
      "text/plain": [
       "<Figure size 1800x720 with 1 Axes>"
      ]
     },
     "metadata": {},
     "output_type": "display_data"
    }
   ],
   "source": [
    "from scipy.cluster.hierarchy import dendrogram, linkage\n",
    "\n",
    "Z_novo = linkage(data_novoscale, metric='cityblock')\n",
    "\n",
    "plt.figure(figsize=(25, 10))\n",
    "dendrogram(\n",
    "    Z_novo,\n",
    "    labels=list(meta['time']),\n",
    "    leaf_rotation=90.,  # rotates the x axis labels\n",
    "    leaf_font_size=12.,  # font size for the x axis labels\n",
    ")\n",
    "plt.title('Hierarchical Clustering Dendrogram')\n",
    "plt.ylabel('distance', fontsize=12, color='y')\n",
    "# Assignment of colors to labels: 'r' is red, 'g' is green, etc.\n",
    "label_colors = {'hour 1.5': 'r', 'hour 4': 'g', 'hour 10': 'b', 'hour 24':'y'}\n",
    "ax = plt.gca()\n",
    "xlbls_novo = ax.get_xmajorticklabels()\n",
    "for lbl in xlbls_novo:\n",
    "    lbl.set_color(label_colors[lbl.get_text()])\n",
    "plt.show()"
   ]
  },
  {
   "attachments": {},
   "cell_type": "markdown",
   "metadata": {},
   "source": [
    "Mais uma vez, apesar de o gráfico obtido apresentar uma melhor organização do que o anterior, não nos permite tirar conclusões."
   ]
  },
  {
   "cell_type": "code",
   "execution_count": 55,
   "metadata": {},
   "outputs": [
    {
     "data": {
      "text/html": [
       "<div>\n",
       "<style scoped>\n",
       "    .dataframe tbody tr th:only-of-type {\n",
       "        vertical-align: middle;\n",
       "    }\n",
       "\n",
       "    .dataframe tbody tr th {\n",
       "        vertical-align: top;\n",
       "    }\n",
       "\n",
       "    .dataframe thead th {\n",
       "        text-align: right;\n",
       "    }\n",
       "</style>\n",
       "<table border=\"1\" class=\"dataframe\">\n",
       "  <thead>\n",
       "    <tr style=\"text-align: right;\">\n",
       "      <th>time</th>\n",
       "      <th>hour 1.5</th>\n",
       "      <th>hour 10</th>\n",
       "      <th>hour 24</th>\n",
       "      <th>hour 4</th>\n",
       "    </tr>\n",
       "    <tr>\n",
       "      <th>clusters</th>\n",
       "      <th></th>\n",
       "      <th></th>\n",
       "      <th></th>\n",
       "      <th></th>\n",
       "    </tr>\n",
       "  </thead>\n",
       "  <tbody>\n",
       "    <tr>\n",
       "      <th>0</th>\n",
       "      <td>12</td>\n",
       "      <td>0</td>\n",
       "      <td>0</td>\n",
       "      <td>2</td>\n",
       "    </tr>\n",
       "    <tr>\n",
       "      <th>1</th>\n",
       "      <td>0</td>\n",
       "      <td>3</td>\n",
       "      <td>6</td>\n",
       "      <td>0</td>\n",
       "    </tr>\n",
       "    <tr>\n",
       "      <th>2</th>\n",
       "      <td>0</td>\n",
       "      <td>0</td>\n",
       "      <td>0</td>\n",
       "      <td>10</td>\n",
       "    </tr>\n",
       "    <tr>\n",
       "      <th>3</th>\n",
       "      <td>0</td>\n",
       "      <td>9</td>\n",
       "      <td>6</td>\n",
       "      <td>0</td>\n",
       "    </tr>\n",
       "  </tbody>\n",
       "</table>\n",
       "</div>"
      ],
      "text/plain": [
       "time      hour 1.5  hour 10  hour 24  hour 4\n",
       "clusters                                    \n",
       "0               12        0        0       2\n",
       "1                0        3        6       0\n",
       "2                0        0        0      10\n",
       "3                0        9        6       0"
      ]
     },
     "execution_count": 55,
     "metadata": {},
     "output_type": "execute_result"
    }
   ],
   "source": [
    "k=4\n",
    "kmeans = KMeans(n_clusters=k)\n",
    "kmeans.fit(data_novoscale)\n",
    "labels = kmeans.labels_\n",
    "centroids = kmeans.cluster_centers_\n",
    "\n",
    "pd.crosstab(labels, meta['time'], rownames=['clusters'] )"
   ]
  },
  {
   "cell_type": "code",
   "execution_count": 56,
   "metadata": {},
   "outputs": [
    {
     "data": {
      "image/png": "[encoded data removed]",
      "text/plain": [
       "<Figure size 432x288 with 1 Axes>"
      ]
     },
     "metadata": {
      "needs_background": "light"
     },
     "output_type": "display_data"
    }
   ],
   "source": [
    "for i in range(k):\n",
    "    ds = data_novoscale[np.where(labels==i)]\n",
    "    plt.plot(ds[:,0],ds[:,1],'o')\n",
    "    lines = plt.plot(centroids[i,0],centroids[i,1],'kx')\n",
    "    plt.setp(lines,ms=15.0)\n",
    "    plt.setp(lines,mew=2.0)\n",
    "plt.show()"
   ]
  },
  {
   "attachments": {},
   "cell_type": "markdown",
   "metadata": {},
   "source": [
    "O clustering obtido para os novos dados apresenta um melhor agrupamento dos mesmos."
   ]
  },
  {
   "cell_type": "markdown",
   "metadata": {},
   "source": [
    "**SECÇAO 3**"
   ]
  },
  {
   "attachments": {},
   "cell_type": "markdown",
   "metadata": {},
   "source": [
    "A divisão dos dados foi realizada da seguinte maneira:\n",
    "2/3 para treino e 1/3 para teste."
   ]
  },
  {
   "cell_type": "code",
   "execution_count": 32,
   "metadata": {},
   "outputs": [],
   "source": [
    "input_data = data_novo.values\n",
    "output_data = meta['time'].values\n",
    "input_sc = preprocessing.scale(input_data)\n",
    "indices = np.random.permutation(len(input_data))\n",
    "indices\n",
    "\n",
    "train_in = input_sc[indices[:-16]]                #divisao entre dados de treino e dados de teste\n",
    "train_out = output_data[indices[:-16]]\n",
    "test_in  = input_sc[indices[-16:]]\n",
    "test_out = output_data[indices[-16:]]"
   ]
  },
  {
   "cell_type": "markdown",
   "metadata": {},
   "source": [
    "K-neighbors"
   ]
  },
  {
   "cell_type": "code",
   "execution_count": 58,
   "metadata": {},
   "outputs": [
    {
     "name": "stdout",
     "output_type": "stream",
     "text": [
      "Valores previstos:  ['hour 4' 'hour 10' 'hour 1.5' 'hour 1.5' 'hour 1.5' 'hour 1.5' 'hour 10'\n",
      " 'hour 4' 'hour 4' 'hour 4' 'hour 4' 'hour 4' 'hour 24' 'hour 4' 'hour 10'\n",
      " 'hour 1.5']\n",
      "Valores reais:  ['hour 4' 'hour 10' 'hour 1.5' 'hour 1.5' 'hour 1.5' 'hour 1.5' 'hour 10'\n",
      " 'hour 4' 'hour 4' 'hour 4' 'hour 4' 'hour 4' 'hour 24' 'hour 4' 'hour 24'\n",
      " 'hour 1.5']\n"
     ]
    },
    {
     "data": {
      "text/plain": [
       "0.9375"
      ]
     },
     "execution_count": 58,
     "metadata": {},
     "output_type": "execute_result"
    }
   ],
   "source": [
    "knn = KNeighborsClassifier()\n",
    "knn.fit(train_in, train_out)\n",
    "preds_knn = knn.predict(test_in)\n",
    "print(\"Valores previstos: \", preds_knn)\n",
    "print(\"Valores reais: \" , test_out)\n",
    "from sklearn.metrics import accuracy_score\n",
    "accuracy_score(preds_knn, test_out)"
   ]
  },
  {
   "cell_type": "markdown",
   "metadata": {},
   "source": [
    "Tree descision"
   ]
  },
  {
   "cell_type": "code",
   "execution_count": 34,
   "metadata": {},
   "outputs": [
    {
     "name": "stdout",
     "output_type": "stream",
     "text": [
      "Valores previstos:  ['hour 4' 'hour 10' 'hour 1.5' 'hour 1.5' 'hour 4' 'hour 1.5' 'hour 10'\n",
      " 'hour 10' 'hour 4' 'hour 4' 'hour 1.5' 'hour 10' 'hour 24' 'hour 1.5'\n",
      " 'hour 10' 'hour 24']\n",
      "Valores reais:  ['hour 4' 'hour 10' 'hour 1.5' 'hour 1.5' 'hour 1.5' 'hour 1.5' 'hour 10'\n",
      " 'hour 4' 'hour 4' 'hour 4' 'hour 4' 'hour 4' 'hour 24' 'hour 4' 'hour 24'\n",
      " 'hour 1.5']\n"
     ]
    },
    {
     "data": {
      "text/plain": [
       "0.5625"
      ]
     },
     "execution_count": 34,
     "metadata": {},
     "output_type": "execute_result"
    }
   ],
   "source": [
    "tree_model = tree.DecisionTreeClassifier()\n",
    "tree_model = tree_model.fit(train_in, train_out)\n",
    "preds_tree = tree_model.predict(test_in)\n",
    "\n",
    "print(\"Valores previstos: \", preds_tree)\n",
    "print(\"Valores reais: \" , test_out)\n",
    "accuracy_score(preds_tree, test_out)"
   ]
  },
  {
   "cell_type": "markdown",
   "metadata": {},
   "source": [
    "SVM"
   ]
  },
  {
   "cell_type": "code",
   "execution_count": 35,
   "metadata": {},
   "outputs": [
    {
     "name": "stdout",
     "output_type": "stream",
     "text": [
      "Valores previstos:  ['hour 4' 'hour 10' 'hour 1.5' 'hour 1.5' 'hour 1.5' 'hour 1.5' 'hour 10'\n",
      " 'hour 24' 'hour 24' 'hour 24' 'hour 4' 'hour 10' 'hour 24' 'hour 4'\n",
      " 'hour 10' 'hour 1.5']\n",
      "Valores reais:  ['hour 4' 'hour 10' 'hour 1.5' 'hour 1.5' 'hour 1.5' 'hour 1.5' 'hour 10'\n",
      " 'hour 4' 'hour 4' 'hour 4' 'hour 4' 'hour 4' 'hour 24' 'hour 4' 'hour 24'\n",
      " 'hour 1.5']\n"
     ]
    },
    {
     "data": {
      "text/plain": [
       "0.6875"
      ]
     },
     "execution_count": 35,
     "metadata": {},
     "output_type": "execute_result"
    }
   ],
   "source": [
    "model_svm = svm.SVC(gamma=0.001, C=100.)\n",
    "model_svm = model_svm.fit(train_in, train_out)\n",
    "preds_svm = model_svm.predict(test_in)\n",
    "\n",
    "print(\"Valores previstos: \" , preds_svm)\n",
    "print(\"Valores reais: \" , test_out)\n",
    "accuracy_score(preds_svm, test_out)"
   ]
  },
  {
   "attachments": {},
   "cell_type": "markdown",
   "metadata": {},
   "source": [
    "Comparação dos modelos"
   ]
  },
  {
   "cell_type": "code",
   "execution_count": 36,
   "metadata": {},
   "outputs": [
    {
     "name": "stdout",
     "output_type": "stream",
     "text": [
      "[0.4        0.7        0.7        0.88888889 0.66666667]\n",
      "0.6711111111111111\n"
     ]
    }
   ],
   "source": [
    "scores_tree = cross_val_score(tree_model, input_sc, output_data, cv = 5)\n",
    "print(scores_tree)\n",
    "print(scores_tree.mean())"
   ]
  },
  {
   "cell_type": "code",
   "execution_count": 37,
   "metadata": {},
   "outputs": [
    {
     "name": "stdout",
     "output_type": "stream",
     "text": [
      "[0.6        1.         1.         0.88888889 0.77777778]\n",
      "0.8533333333333333\n"
     ]
    }
   ],
   "source": [
    "scores_n = cross_val_score(knn, input_sc, output_data, cv = 5)\n",
    "print(scores_n)\n",
    "print(scores_n.mean())"
   ]
  },
  {
   "cell_type": "code",
   "execution_count": 38,
   "metadata": {},
   "outputs": [
    {
     "name": "stdout",
     "output_type": "stream",
     "text": [
      "[0.8        1.         0.9        1.         0.77777778]\n",
      "0.8955555555555555\n"
     ]
    }
   ],
   "source": [
    "scores_svm = cross_val_score(model_svm, input_sc, output_data, cv = 5)\n",
    "print(scores_svm)\n",
    "print(scores_svm.mean())"
   ]
  },
  {
   "attachments": {},
   "cell_type": "markdown",
   "metadata": {},
   "source": [
    "Concluiu-se que o modelo que teve melhor desempenho foi o k-neighbours (com uma percentagem de exatidão de 93,75%)."
   ]
  },
  {
   "attachments": {},
   "cell_type": "markdown",
   "metadata": {},
   "source": [
    "Uma vez a quantidade de amostras disponiveis é bastante inferior ao número de genes, mesmo após a eliminação dos que não variam ao longo do jejum, os modelos de machine learning não se verificaram muito exatos."
   ]
  }
 ],
 "metadata": {
  "kernelspec": {
   "display_name": "base",
   "language": "python",
   "name": "python3"
  },
  "language_info": {
   "codemirror_mode": {
    "name": "ipython",
    "version": 3
   },
   "file_extension": ".py",
   "mimetype": "text/x-python",
   "name": "python",
   "nbconvert_exporter": "python",
   "pygments_lexer": "ipython3",
   "version": "3.9.7"
  },
  "vscode": {
   "interpreter": {
    "hash": "ad2bdc8ecc057115af97d19610ffacc2b4e99fae6737bb82f5d7fb13d2f2c186"
   }
  }
 },
 "nbformat": 4,
 "nbformat_minor": 2
}
